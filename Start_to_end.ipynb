{
  "nbformat": 4,
  "nbformat_minor": 0,
  "metadata": {
    "accelerator": "TPU",
    "colab": {
      "name": "Start to end.ipynb",
      "provenance": [],
      "collapsed_sections": [],
      "authorship_tag": "ABX9TyNktIWPyQcAgSoa5F6ec7Fi",
      "include_colab_link": true
    },
    "kernelspec": {
      "display_name": "Python 3",
      "name": "python3"
    },
    "language_info": {
      "name": "python"
    }
  },
  "cells": [
    {
      "cell_type": "markdown",
      "metadata": {
        "id": "view-in-github",
        "colab_type": "text"
      },
      "source": [
        "<a href=\"https://colab.research.google.com/github/abhijiths1998/Capstone/blob/main/Start_to_end.ipynb\" target=\"_parent\"><img src=\"https://colab.research.google.com/assets/colab-badge.svg\" alt=\"Open In Colab\"/></a>"
      ]
    },
    {
      "cell_type": "code",
      "metadata": {
        "id": "mWQ_ScbBKrbh"
      },
      "source": [
        "import pandas as pd\n",
        "import numpy as np\n",
        "import matplotlib.pyplot as plt\n",
        "import seaborn as sns"
      ],
      "execution_count": 1,
      "outputs": []
    },
    {
      "cell_type": "code",
      "metadata": {
        "id": "TaEqAuGWLFJG"
      },
      "source": [
        "df = pd.read_csv('sigma_cabs.csv')\n",
        "test = pd.read_csv('test.csv')"
      ],
      "execution_count": 2,
      "outputs": []
    },
    {
      "cell_type": "code",
      "metadata": {
        "colab": {
          "base_uri": "https://localhost:8080/",
          "height": 224
        },
        "id": "WGcjfD5LLQIF",
        "outputId": "ef18696e-b52a-4661-b003-fdd71ba5ef5a"
      },
      "source": [
        "df.head()"
      ],
      "execution_count": 3,
      "outputs": [
        {
          "output_type": "execute_result",
          "data": {
            "text/html": [
              "<div>\n",
              "<style scoped>\n",
              "    .dataframe tbody tr th:only-of-type {\n",
              "        vertical-align: middle;\n",
              "    }\n",
              "\n",
              "    .dataframe tbody tr th {\n",
              "        vertical-align: top;\n",
              "    }\n",
              "\n",
              "    .dataframe thead th {\n",
              "        text-align: right;\n",
              "    }\n",
              "</style>\n",
              "<table border=\"1\" class=\"dataframe\">\n",
              "  <thead>\n",
              "    <tr style=\"text-align: right;\">\n",
              "      <th></th>\n",
              "      <th>Trip_ID</th>\n",
              "      <th>Trip_Distance</th>\n",
              "      <th>Type_of_Cab</th>\n",
              "      <th>Customer_Since_Months</th>\n",
              "      <th>Life_Style_Index</th>\n",
              "      <th>Confidence_Life_Style_Index</th>\n",
              "      <th>Destination_Type</th>\n",
              "      <th>Customer_Rating</th>\n",
              "      <th>Cancellation_Last_1Month</th>\n",
              "      <th>Var1</th>\n",
              "      <th>Var2</th>\n",
              "      <th>Var3</th>\n",
              "      <th>Gender</th>\n",
              "      <th>Surge_Pricing_Type</th>\n",
              "    </tr>\n",
              "  </thead>\n",
              "  <tbody>\n",
              "    <tr>\n",
              "      <th>0</th>\n",
              "      <td>T0005689460</td>\n",
              "      <td>6.77</td>\n",
              "      <td>B</td>\n",
              "      <td>1.0</td>\n",
              "      <td>2.42769</td>\n",
              "      <td>A</td>\n",
              "      <td>A</td>\n",
              "      <td>3.90500</td>\n",
              "      <td>0</td>\n",
              "      <td>40.0</td>\n",
              "      <td>46</td>\n",
              "      <td>60</td>\n",
              "      <td>Female</td>\n",
              "      <td>2</td>\n",
              "    </tr>\n",
              "    <tr>\n",
              "      <th>1</th>\n",
              "      <td>T0005689461</td>\n",
              "      <td>29.47</td>\n",
              "      <td>B</td>\n",
              "      <td>10.0</td>\n",
              "      <td>2.78245</td>\n",
              "      <td>B</td>\n",
              "      <td>A</td>\n",
              "      <td>3.45000</td>\n",
              "      <td>0</td>\n",
              "      <td>38.0</td>\n",
              "      <td>56</td>\n",
              "      <td>78</td>\n",
              "      <td>Male</td>\n",
              "      <td>2</td>\n",
              "    </tr>\n",
              "    <tr>\n",
              "      <th>2</th>\n",
              "      <td>T0005689464</td>\n",
              "      <td>41.58</td>\n",
              "      <td>NaN</td>\n",
              "      <td>10.0</td>\n",
              "      <td>NaN</td>\n",
              "      <td>NaN</td>\n",
              "      <td>E</td>\n",
              "      <td>3.50125</td>\n",
              "      <td>2</td>\n",
              "      <td>NaN</td>\n",
              "      <td>56</td>\n",
              "      <td>77</td>\n",
              "      <td>Male</td>\n",
              "      <td>2</td>\n",
              "    </tr>\n",
              "    <tr>\n",
              "      <th>3</th>\n",
              "      <td>T0005689465</td>\n",
              "      <td>61.56</td>\n",
              "      <td>C</td>\n",
              "      <td>10.0</td>\n",
              "      <td>NaN</td>\n",
              "      <td>NaN</td>\n",
              "      <td>A</td>\n",
              "      <td>3.45375</td>\n",
              "      <td>0</td>\n",
              "      <td>NaN</td>\n",
              "      <td>52</td>\n",
              "      <td>74</td>\n",
              "      <td>Male</td>\n",
              "      <td>3</td>\n",
              "    </tr>\n",
              "    <tr>\n",
              "      <th>4</th>\n",
              "      <td>T0005689467</td>\n",
              "      <td>54.95</td>\n",
              "      <td>C</td>\n",
              "      <td>10.0</td>\n",
              "      <td>3.03453</td>\n",
              "      <td>B</td>\n",
              "      <td>A</td>\n",
              "      <td>3.40250</td>\n",
              "      <td>4</td>\n",
              "      <td>51.0</td>\n",
              "      <td>49</td>\n",
              "      <td>102</td>\n",
              "      <td>Male</td>\n",
              "      <td>2</td>\n",
              "    </tr>\n",
              "  </tbody>\n",
              "</table>\n",
              "</div>"
            ],
            "text/plain": [
              "       Trip_ID  Trip_Distance Type_of_Cab  ...  Var3  Gender Surge_Pricing_Type\n",
              "0  T0005689460           6.77           B  ...    60  Female                  2\n",
              "1  T0005689461          29.47           B  ...    78    Male                  2\n",
              "2  T0005689464          41.58         NaN  ...    77    Male                  2\n",
              "3  T0005689465          61.56           C  ...    74    Male                  3\n",
              "4  T0005689467          54.95           C  ...   102    Male                  2\n",
              "\n",
              "[5 rows x 14 columns]"
            ]
          },
          "metadata": {
            "tags": []
          },
          "execution_count": 3
        }
      ]
    },
    {
      "cell_type": "code",
      "metadata": {
        "id": "kU8kjMrBLUhx"
      },
      "source": [
        "df = df.set_index('Trip_ID')"
      ],
      "execution_count": 4,
      "outputs": []
    },
    {
      "cell_type": "code",
      "metadata": {
        "id": "j7BzebOULaG2"
      },
      "source": [
        "df_num = df[['Trip_Distance','Customer_Since_Months','Var1','Var2','Var3']]\n",
        "df_cat = df.select_dtypes(include='object')\n"
      ],
      "execution_count": 5,
      "outputs": []
    },
    {
      "cell_type": "code",
      "metadata": {
        "colab": {
          "base_uri": "https://localhost:8080/",
          "height": 255
        },
        "id": "RT3VdSTuMtgn",
        "outputId": "5f3a6a64-8f60-4e23-e5ce-70eda93e734f"
      },
      "source": [
        "df.head()"
      ],
      "execution_count": 6,
      "outputs": [
        {
          "output_type": "execute_result",
          "data": {
            "text/html": [
              "<div>\n",
              "<style scoped>\n",
              "    .dataframe tbody tr th:only-of-type {\n",
              "        vertical-align: middle;\n",
              "    }\n",
              "\n",
              "    .dataframe tbody tr th {\n",
              "        vertical-align: top;\n",
              "    }\n",
              "\n",
              "    .dataframe thead th {\n",
              "        text-align: right;\n",
              "    }\n",
              "</style>\n",
              "<table border=\"1\" class=\"dataframe\">\n",
              "  <thead>\n",
              "    <tr style=\"text-align: right;\">\n",
              "      <th></th>\n",
              "      <th>Trip_Distance</th>\n",
              "      <th>Type_of_Cab</th>\n",
              "      <th>Customer_Since_Months</th>\n",
              "      <th>Life_Style_Index</th>\n",
              "      <th>Confidence_Life_Style_Index</th>\n",
              "      <th>Destination_Type</th>\n",
              "      <th>Customer_Rating</th>\n",
              "      <th>Cancellation_Last_1Month</th>\n",
              "      <th>Var1</th>\n",
              "      <th>Var2</th>\n",
              "      <th>Var3</th>\n",
              "      <th>Gender</th>\n",
              "      <th>Surge_Pricing_Type</th>\n",
              "    </tr>\n",
              "    <tr>\n",
              "      <th>Trip_ID</th>\n",
              "      <th></th>\n",
              "      <th></th>\n",
              "      <th></th>\n",
              "      <th></th>\n",
              "      <th></th>\n",
              "      <th></th>\n",
              "      <th></th>\n",
              "      <th></th>\n",
              "      <th></th>\n",
              "      <th></th>\n",
              "      <th></th>\n",
              "      <th></th>\n",
              "      <th></th>\n",
              "    </tr>\n",
              "  </thead>\n",
              "  <tbody>\n",
              "    <tr>\n",
              "      <th>T0005689460</th>\n",
              "      <td>6.77</td>\n",
              "      <td>B</td>\n",
              "      <td>1.0</td>\n",
              "      <td>2.42769</td>\n",
              "      <td>A</td>\n",
              "      <td>A</td>\n",
              "      <td>3.90500</td>\n",
              "      <td>0</td>\n",
              "      <td>40.0</td>\n",
              "      <td>46</td>\n",
              "      <td>60</td>\n",
              "      <td>Female</td>\n",
              "      <td>2</td>\n",
              "    </tr>\n",
              "    <tr>\n",
              "      <th>T0005689461</th>\n",
              "      <td>29.47</td>\n",
              "      <td>B</td>\n",
              "      <td>10.0</td>\n",
              "      <td>2.78245</td>\n",
              "      <td>B</td>\n",
              "      <td>A</td>\n",
              "      <td>3.45000</td>\n",
              "      <td>0</td>\n",
              "      <td>38.0</td>\n",
              "      <td>56</td>\n",
              "      <td>78</td>\n",
              "      <td>Male</td>\n",
              "      <td>2</td>\n",
              "    </tr>\n",
              "    <tr>\n",
              "      <th>T0005689464</th>\n",
              "      <td>41.58</td>\n",
              "      <td>NaN</td>\n",
              "      <td>10.0</td>\n",
              "      <td>NaN</td>\n",
              "      <td>NaN</td>\n",
              "      <td>E</td>\n",
              "      <td>3.50125</td>\n",
              "      <td>2</td>\n",
              "      <td>NaN</td>\n",
              "      <td>56</td>\n",
              "      <td>77</td>\n",
              "      <td>Male</td>\n",
              "      <td>2</td>\n",
              "    </tr>\n",
              "    <tr>\n",
              "      <th>T0005689465</th>\n",
              "      <td>61.56</td>\n",
              "      <td>C</td>\n",
              "      <td>10.0</td>\n",
              "      <td>NaN</td>\n",
              "      <td>NaN</td>\n",
              "      <td>A</td>\n",
              "      <td>3.45375</td>\n",
              "      <td>0</td>\n",
              "      <td>NaN</td>\n",
              "      <td>52</td>\n",
              "      <td>74</td>\n",
              "      <td>Male</td>\n",
              "      <td>3</td>\n",
              "    </tr>\n",
              "    <tr>\n",
              "      <th>T0005689467</th>\n",
              "      <td>54.95</td>\n",
              "      <td>C</td>\n",
              "      <td>10.0</td>\n",
              "      <td>3.03453</td>\n",
              "      <td>B</td>\n",
              "      <td>A</td>\n",
              "      <td>3.40250</td>\n",
              "      <td>4</td>\n",
              "      <td>51.0</td>\n",
              "      <td>49</td>\n",
              "      <td>102</td>\n",
              "      <td>Male</td>\n",
              "      <td>2</td>\n",
              "    </tr>\n",
              "  </tbody>\n",
              "</table>\n",
              "</div>"
            ],
            "text/plain": [
              "             Trip_Distance Type_of_Cab  ...  Gender  Surge_Pricing_Type\n",
              "Trip_ID                                 ...                            \n",
              "T0005689460           6.77           B  ...  Female                   2\n",
              "T0005689461          29.47           B  ...    Male                   2\n",
              "T0005689464          41.58         NaN  ...    Male                   2\n",
              "T0005689465          61.56           C  ...    Male                   3\n",
              "T0005689467          54.95           C  ...    Male                   2\n",
              "\n",
              "[5 rows x 13 columns]"
            ]
          },
          "metadata": {
            "tags": []
          },
          "execution_count": 6
        }
      ]
    },
    {
      "cell_type": "code",
      "metadata": {
        "id": "X6yzbQGEMMoi"
      },
      "source": [
        "df1 = pd.get_dummies(data = df,columns=['Type_of_Cab','Confidence_Life_Style_Index','Destination_Type','Gender'] ,drop_first=True)"
      ],
      "execution_count": 7,
      "outputs": []
    },
    {
      "cell_type": "code",
      "metadata": {
        "colab": {
          "base_uri": "https://localhost:8080/",
          "height": 255
        },
        "id": "Xtz2f734NgSL",
        "outputId": "8ab8a4b3-b1d3-41b0-cfb0-4b6137988115"
      },
      "source": [
        "df1.head()"
      ],
      "execution_count": 8,
      "outputs": [
        {
          "output_type": "execute_result",
          "data": {
            "text/html": [
              "<div>\n",
              "<style scoped>\n",
              "    .dataframe tbody tr th:only-of-type {\n",
              "        vertical-align: middle;\n",
              "    }\n",
              "\n",
              "    .dataframe tbody tr th {\n",
              "        vertical-align: top;\n",
              "    }\n",
              "\n",
              "    .dataframe thead th {\n",
              "        text-align: right;\n",
              "    }\n",
              "</style>\n",
              "<table border=\"1\" class=\"dataframe\">\n",
              "  <thead>\n",
              "    <tr style=\"text-align: right;\">\n",
              "      <th></th>\n",
              "      <th>Trip_Distance</th>\n",
              "      <th>Customer_Since_Months</th>\n",
              "      <th>Life_Style_Index</th>\n",
              "      <th>Customer_Rating</th>\n",
              "      <th>Cancellation_Last_1Month</th>\n",
              "      <th>Var1</th>\n",
              "      <th>Var2</th>\n",
              "      <th>Var3</th>\n",
              "      <th>Surge_Pricing_Type</th>\n",
              "      <th>Type_of_Cab_B</th>\n",
              "      <th>Type_of_Cab_C</th>\n",
              "      <th>Type_of_Cab_D</th>\n",
              "      <th>Type_of_Cab_E</th>\n",
              "      <th>Confidence_Life_Style_Index_B</th>\n",
              "      <th>Confidence_Life_Style_Index_C</th>\n",
              "      <th>Destination_Type_B</th>\n",
              "      <th>Destination_Type_C</th>\n",
              "      <th>Destination_Type_D</th>\n",
              "      <th>Destination_Type_E</th>\n",
              "      <th>Destination_Type_F</th>\n",
              "      <th>Destination_Type_G</th>\n",
              "      <th>Destination_Type_H</th>\n",
              "      <th>Destination_Type_I</th>\n",
              "      <th>Destination_Type_J</th>\n",
              "      <th>Destination_Type_K</th>\n",
              "      <th>Destination_Type_L</th>\n",
              "      <th>Destination_Type_M</th>\n",
              "      <th>Destination_Type_N</th>\n",
              "      <th>Gender_Male</th>\n",
              "    </tr>\n",
              "    <tr>\n",
              "      <th>Trip_ID</th>\n",
              "      <th></th>\n",
              "      <th></th>\n",
              "      <th></th>\n",
              "      <th></th>\n",
              "      <th></th>\n",
              "      <th></th>\n",
              "      <th></th>\n",
              "      <th></th>\n",
              "      <th></th>\n",
              "      <th></th>\n",
              "      <th></th>\n",
              "      <th></th>\n",
              "      <th></th>\n",
              "      <th></th>\n",
              "      <th></th>\n",
              "      <th></th>\n",
              "      <th></th>\n",
              "      <th></th>\n",
              "      <th></th>\n",
              "      <th></th>\n",
              "      <th></th>\n",
              "      <th></th>\n",
              "      <th></th>\n",
              "      <th></th>\n",
              "      <th></th>\n",
              "      <th></th>\n",
              "      <th></th>\n",
              "      <th></th>\n",
              "      <th></th>\n",
              "    </tr>\n",
              "  </thead>\n",
              "  <tbody>\n",
              "    <tr>\n",
              "      <th>T0005689460</th>\n",
              "      <td>6.77</td>\n",
              "      <td>1.0</td>\n",
              "      <td>2.42769</td>\n",
              "      <td>3.90500</td>\n",
              "      <td>0</td>\n",
              "      <td>40.0</td>\n",
              "      <td>46</td>\n",
              "      <td>60</td>\n",
              "      <td>2</td>\n",
              "      <td>1</td>\n",
              "      <td>0</td>\n",
              "      <td>0</td>\n",
              "      <td>0</td>\n",
              "      <td>0</td>\n",
              "      <td>0</td>\n",
              "      <td>0</td>\n",
              "      <td>0</td>\n",
              "      <td>0</td>\n",
              "      <td>0</td>\n",
              "      <td>0</td>\n",
              "      <td>0</td>\n",
              "      <td>0</td>\n",
              "      <td>0</td>\n",
              "      <td>0</td>\n",
              "      <td>0</td>\n",
              "      <td>0</td>\n",
              "      <td>0</td>\n",
              "      <td>0</td>\n",
              "      <td>0</td>\n",
              "    </tr>\n",
              "    <tr>\n",
              "      <th>T0005689461</th>\n",
              "      <td>29.47</td>\n",
              "      <td>10.0</td>\n",
              "      <td>2.78245</td>\n",
              "      <td>3.45000</td>\n",
              "      <td>0</td>\n",
              "      <td>38.0</td>\n",
              "      <td>56</td>\n",
              "      <td>78</td>\n",
              "      <td>2</td>\n",
              "      <td>1</td>\n",
              "      <td>0</td>\n",
              "      <td>0</td>\n",
              "      <td>0</td>\n",
              "      <td>1</td>\n",
              "      <td>0</td>\n",
              "      <td>0</td>\n",
              "      <td>0</td>\n",
              "      <td>0</td>\n",
              "      <td>0</td>\n",
              "      <td>0</td>\n",
              "      <td>0</td>\n",
              "      <td>0</td>\n",
              "      <td>0</td>\n",
              "      <td>0</td>\n",
              "      <td>0</td>\n",
              "      <td>0</td>\n",
              "      <td>0</td>\n",
              "      <td>0</td>\n",
              "      <td>1</td>\n",
              "    </tr>\n",
              "    <tr>\n",
              "      <th>T0005689464</th>\n",
              "      <td>41.58</td>\n",
              "      <td>10.0</td>\n",
              "      <td>NaN</td>\n",
              "      <td>3.50125</td>\n",
              "      <td>2</td>\n",
              "      <td>NaN</td>\n",
              "      <td>56</td>\n",
              "      <td>77</td>\n",
              "      <td>2</td>\n",
              "      <td>0</td>\n",
              "      <td>0</td>\n",
              "      <td>0</td>\n",
              "      <td>0</td>\n",
              "      <td>0</td>\n",
              "      <td>0</td>\n",
              "      <td>0</td>\n",
              "      <td>0</td>\n",
              "      <td>0</td>\n",
              "      <td>1</td>\n",
              "      <td>0</td>\n",
              "      <td>0</td>\n",
              "      <td>0</td>\n",
              "      <td>0</td>\n",
              "      <td>0</td>\n",
              "      <td>0</td>\n",
              "      <td>0</td>\n",
              "      <td>0</td>\n",
              "      <td>0</td>\n",
              "      <td>1</td>\n",
              "    </tr>\n",
              "    <tr>\n",
              "      <th>T0005689465</th>\n",
              "      <td>61.56</td>\n",
              "      <td>10.0</td>\n",
              "      <td>NaN</td>\n",
              "      <td>3.45375</td>\n",
              "      <td>0</td>\n",
              "      <td>NaN</td>\n",
              "      <td>52</td>\n",
              "      <td>74</td>\n",
              "      <td>3</td>\n",
              "      <td>0</td>\n",
              "      <td>1</td>\n",
              "      <td>0</td>\n",
              "      <td>0</td>\n",
              "      <td>0</td>\n",
              "      <td>0</td>\n",
              "      <td>0</td>\n",
              "      <td>0</td>\n",
              "      <td>0</td>\n",
              "      <td>0</td>\n",
              "      <td>0</td>\n",
              "      <td>0</td>\n",
              "      <td>0</td>\n",
              "      <td>0</td>\n",
              "      <td>0</td>\n",
              "      <td>0</td>\n",
              "      <td>0</td>\n",
              "      <td>0</td>\n",
              "      <td>0</td>\n",
              "      <td>1</td>\n",
              "    </tr>\n",
              "    <tr>\n",
              "      <th>T0005689467</th>\n",
              "      <td>54.95</td>\n",
              "      <td>10.0</td>\n",
              "      <td>3.03453</td>\n",
              "      <td>3.40250</td>\n",
              "      <td>4</td>\n",
              "      <td>51.0</td>\n",
              "      <td>49</td>\n",
              "      <td>102</td>\n",
              "      <td>2</td>\n",
              "      <td>0</td>\n",
              "      <td>1</td>\n",
              "      <td>0</td>\n",
              "      <td>0</td>\n",
              "      <td>1</td>\n",
              "      <td>0</td>\n",
              "      <td>0</td>\n",
              "      <td>0</td>\n",
              "      <td>0</td>\n",
              "      <td>0</td>\n",
              "      <td>0</td>\n",
              "      <td>0</td>\n",
              "      <td>0</td>\n",
              "      <td>0</td>\n",
              "      <td>0</td>\n",
              "      <td>0</td>\n",
              "      <td>0</td>\n",
              "      <td>0</td>\n",
              "      <td>0</td>\n",
              "      <td>1</td>\n",
              "    </tr>\n",
              "  </tbody>\n",
              "</table>\n",
              "</div>"
            ],
            "text/plain": [
              "             Trip_Distance  ...  Gender_Male\n",
              "Trip_ID                     ...             \n",
              "T0005689460           6.77  ...            0\n",
              "T0005689461          29.47  ...            1\n",
              "T0005689464          41.58  ...            1\n",
              "T0005689465          61.56  ...            1\n",
              "T0005689467          54.95  ...            1\n",
              "\n",
              "[5 rows x 29 columns]"
            ]
          },
          "metadata": {
            "tags": []
          },
          "execution_count": 8
        }
      ]
    },
    {
      "cell_type": "code",
      "metadata": {
        "colab": {
          "base_uri": "https://localhost:8080/"
        },
        "id": "8C2SZOrtMGyM",
        "outputId": "28ca849c-64d0-4df0-b6ab-3a0bae29f0e1"
      },
      "source": [
        "(df1.isnull().sum()/len(df1))*100"
      ],
      "execution_count": 9,
      "outputs": [
        {
          "output_type": "execute_result",
          "data": {
            "text/plain": [
              "Trip_Distance                     0.000000\n",
              "Customer_Since_Months             4.496362\n",
              "Life_Style_Index                 15.336999\n",
              "Customer_Rating                   0.000000\n",
              "Cancellation_Last_1Month          0.000000\n",
              "Var1                             53.948748\n",
              "Var2                              0.000000\n",
              "Var3                              0.000000\n",
              "Surge_Pricing_Type                0.000000\n",
              "Type_of_Cab_B                     0.000000\n",
              "Type_of_Cab_C                     0.000000\n",
              "Type_of_Cab_D                     0.000000\n",
              "Type_of_Cab_E                     0.000000\n",
              "Confidence_Life_Style_Index_B     0.000000\n",
              "Confidence_Life_Style_Index_C     0.000000\n",
              "Destination_Type_B                0.000000\n",
              "Destination_Type_C                0.000000\n",
              "Destination_Type_D                0.000000\n",
              "Destination_Type_E                0.000000\n",
              "Destination_Type_F                0.000000\n",
              "Destination_Type_G                0.000000\n",
              "Destination_Type_H                0.000000\n",
              "Destination_Type_I                0.000000\n",
              "Destination_Type_J                0.000000\n",
              "Destination_Type_K                0.000000\n",
              "Destination_Type_L                0.000000\n",
              "Destination_Type_M                0.000000\n",
              "Destination_Type_N                0.000000\n",
              "Gender_Male                       0.000000\n",
              "dtype: float64"
            ]
          },
          "metadata": {
            "tags": []
          },
          "execution_count": 9
        }
      ]
    },
    {
      "cell_type": "code",
      "metadata": {
        "colab": {
          "base_uri": "https://localhost:8080/"
        },
        "id": "YZBWzXJffXZU",
        "outputId": "ee2946c9-18f6-45e0-fc21-2a25e176bbbd"
      },
      "source": [
        "df1['Var1'].skew()"
      ],
      "execution_count": 10,
      "outputs": [
        {
          "output_type": "execute_result",
          "data": {
            "text/plain": [
              "0.46540080522036126"
            ]
          },
          "metadata": {
            "tags": []
          },
          "execution_count": 10
        }
      ]
    },
    {
      "cell_type": "code",
      "metadata": {
        "id": "JBnvE5Cefjxp"
      },
      "source": [
        "df1['Var1'] = df1['Var1'].fillna(df1['Var1'].mean())"
      ],
      "execution_count": 11,
      "outputs": []
    },
    {
      "cell_type": "code",
      "metadata": {
        "colab": {
          "base_uri": "https://localhost:8080/"
        },
        "id": "sLwnoZGofwc0",
        "outputId": "7cf2fe08-c54c-4d25-dcd8-a3d6ac990ced"
      },
      "source": [
        "df1['Life_Style_Index'].skew()"
      ],
      "execution_count": 12,
      "outputs": [
        {
          "output_type": "execute_result",
          "data": {
            "text/plain": [
              "0.19399412093255727"
            ]
          },
          "metadata": {
            "tags": []
          },
          "execution_count": 12
        }
      ]
    },
    {
      "cell_type": "code",
      "metadata": {
        "id": "vdyNdFrhf1f-"
      },
      "source": [
        "df1['Life_Style_Index'] = df1['Life_Style_Index'].fillna(df1['Life_Style_Index'].mean())"
      ],
      "execution_count": 13,
      "outputs": []
    },
    {
      "cell_type": "code",
      "metadata": {
        "id": "ijSsaYEBf9kw"
      },
      "source": [
        "df1 = df1.dropna()"
      ],
      "execution_count": 14,
      "outputs": []
    },
    {
      "cell_type": "code",
      "metadata": {
        "colab": {
          "base_uri": "https://localhost:8080/"
        },
        "id": "W1EB51MfgDzd",
        "outputId": "eb22e47a-c99a-4d61-c54b-f2834625ffe0"
      },
      "source": [
        "(df1.isnull().sum()/len(df1))*100"
      ],
      "execution_count": 15,
      "outputs": [
        {
          "output_type": "execute_result",
          "data": {
            "text/plain": [
              "Trip_Distance                    0.0\n",
              "Customer_Since_Months            0.0\n",
              "Life_Style_Index                 0.0\n",
              "Customer_Rating                  0.0\n",
              "Cancellation_Last_1Month         0.0\n",
              "Var1                             0.0\n",
              "Var2                             0.0\n",
              "Var3                             0.0\n",
              "Surge_Pricing_Type               0.0\n",
              "Type_of_Cab_B                    0.0\n",
              "Type_of_Cab_C                    0.0\n",
              "Type_of_Cab_D                    0.0\n",
              "Type_of_Cab_E                    0.0\n",
              "Confidence_Life_Style_Index_B    0.0\n",
              "Confidence_Life_Style_Index_C    0.0\n",
              "Destination_Type_B               0.0\n",
              "Destination_Type_C               0.0\n",
              "Destination_Type_D               0.0\n",
              "Destination_Type_E               0.0\n",
              "Destination_Type_F               0.0\n",
              "Destination_Type_G               0.0\n",
              "Destination_Type_H               0.0\n",
              "Destination_Type_I               0.0\n",
              "Destination_Type_J               0.0\n",
              "Destination_Type_K               0.0\n",
              "Destination_Type_L               0.0\n",
              "Destination_Type_M               0.0\n",
              "Destination_Type_N               0.0\n",
              "Gender_Male                      0.0\n",
              "dtype: float64"
            ]
          },
          "metadata": {
            "tags": []
          },
          "execution_count": 15
        }
      ]
    },
    {
      "cell_type": "code",
      "metadata": {
        "id": "WK-__zvVgEyU"
      },
      "source": [
        "x = df1.drop('Surge_Pricing_Type',axis=1)\n",
        "y = df1['Surge_Pricing_Type']"
      ],
      "execution_count": 16,
      "outputs": []
    },
    {
      "cell_type": "code",
      "metadata": {
        "id": "aNe05LAshJYi"
      },
      "source": [
        "from scipy.stats import zscore"
      ],
      "execution_count": 17,
      "outputs": []
    },
    {
      "cell_type": "code",
      "metadata": {
        "id": "hPI6tLRFhEla"
      },
      "source": [
        "x = x.apply(zscore)"
      ],
      "execution_count": 18,
      "outputs": []
    },
    {
      "cell_type": "code",
      "metadata": {
        "colab": {
          "base_uri": "https://localhost:8080/",
          "height": 255
        },
        "id": "j5r7wANbhQ5r",
        "outputId": "9259cb90-6259-43c1-f116-db82a3120900"
      },
      "source": [
        "x.head()"
      ],
      "execution_count": 19,
      "outputs": [
        {
          "output_type": "execute_result",
          "data": {
            "text/html": [
              "<div>\n",
              "<style scoped>\n",
              "    .dataframe tbody tr th:only-of-type {\n",
              "        vertical-align: middle;\n",
              "    }\n",
              "\n",
              "    .dataframe tbody tr th {\n",
              "        vertical-align: top;\n",
              "    }\n",
              "\n",
              "    .dataframe thead th {\n",
              "        text-align: right;\n",
              "    }\n",
              "</style>\n",
              "<table border=\"1\" class=\"dataframe\">\n",
              "  <thead>\n",
              "    <tr style=\"text-align: right;\">\n",
              "      <th></th>\n",
              "      <th>Trip_Distance</th>\n",
              "      <th>Customer_Since_Months</th>\n",
              "      <th>Life_Style_Index</th>\n",
              "      <th>Customer_Rating</th>\n",
              "      <th>Cancellation_Last_1Month</th>\n",
              "      <th>Var1</th>\n",
              "      <th>Var2</th>\n",
              "      <th>Var3</th>\n",
              "      <th>Type_of_Cab_B</th>\n",
              "      <th>Type_of_Cab_C</th>\n",
              "      <th>Type_of_Cab_D</th>\n",
              "      <th>Type_of_Cab_E</th>\n",
              "      <th>Confidence_Life_Style_Index_B</th>\n",
              "      <th>Confidence_Life_Style_Index_C</th>\n",
              "      <th>Destination_Type_B</th>\n",
              "      <th>Destination_Type_C</th>\n",
              "      <th>Destination_Type_D</th>\n",
              "      <th>Destination_Type_E</th>\n",
              "      <th>Destination_Type_F</th>\n",
              "      <th>Destination_Type_G</th>\n",
              "      <th>Destination_Type_H</th>\n",
              "      <th>Destination_Type_I</th>\n",
              "      <th>Destination_Type_J</th>\n",
              "      <th>Destination_Type_K</th>\n",
              "      <th>Destination_Type_L</th>\n",
              "      <th>Destination_Type_M</th>\n",
              "      <th>Destination_Type_N</th>\n",
              "      <th>Gender_Male</th>\n",
              "    </tr>\n",
              "    <tr>\n",
              "      <th>Trip_ID</th>\n",
              "      <th></th>\n",
              "      <th></th>\n",
              "      <th></th>\n",
              "      <th></th>\n",
              "      <th></th>\n",
              "      <th></th>\n",
              "      <th></th>\n",
              "      <th></th>\n",
              "      <th></th>\n",
              "      <th></th>\n",
              "      <th></th>\n",
              "      <th></th>\n",
              "      <th></th>\n",
              "      <th></th>\n",
              "      <th></th>\n",
              "      <th></th>\n",
              "      <th></th>\n",
              "      <th></th>\n",
              "      <th></th>\n",
              "      <th></th>\n",
              "      <th></th>\n",
              "      <th></th>\n",
              "      <th></th>\n",
              "      <th></th>\n",
              "      <th></th>\n",
              "      <th></th>\n",
              "      <th></th>\n",
              "      <th></th>\n",
              "    </tr>\n",
              "  </thead>\n",
              "  <tbody>\n",
              "    <tr>\n",
              "      <th>T0005689460</th>\n",
              "      <td>-1.480363</td>\n",
              "      <td>-1.383192</td>\n",
              "      <td>-1.870727</td>\n",
              "      <td>1.073661</td>\n",
              "      <td>-0.755372</td>\n",
              "      <td>-1.631796</td>\n",
              "      <td>-1.051761</td>\n",
              "      <td>-1.308700</td>\n",
              "      <td>1.793280</td>\n",
              "      <td>-0.521126</td>\n",
              "      <td>-0.409955</td>\n",
              "      <td>-0.310687</td>\n",
              "      <td>-0.639988</td>\n",
              "      <td>-0.62044</td>\n",
              "      <td>-0.536137</td>\n",
              "      <td>-0.243441</td>\n",
              "      <td>-0.227854</td>\n",
              "      <td>-0.144963</td>\n",
              "      <td>-0.124062</td>\n",
              "      <td>-0.106874</td>\n",
              "      <td>-0.097455</td>\n",
              "      <td>-0.078546</td>\n",
              "      <td>-0.071973</td>\n",
              "      <td>-0.073246</td>\n",
              "      <td>-0.070222</td>\n",
              "      <td>-0.026313</td>\n",
              "      <td>-0.027497</td>\n",
              "      <td>-1.576600</td>\n",
              "    </tr>\n",
              "    <tr>\n",
              "      <th>T0005689461</th>\n",
              "      <td>-0.592394</td>\n",
              "      <td>1.098285</td>\n",
              "      <td>-0.129986</td>\n",
              "      <td>0.607773</td>\n",
              "      <td>-0.755372</td>\n",
              "      <td>-1.766899</td>\n",
              "      <td>0.949106</td>\n",
              "      <td>0.245856</td>\n",
              "      <td>1.793280</td>\n",
              "      <td>-0.521126</td>\n",
              "      <td>-0.409955</td>\n",
              "      <td>-0.310687</td>\n",
              "      <td>1.562529</td>\n",
              "      <td>-0.62044</td>\n",
              "      <td>-0.536137</td>\n",
              "      <td>-0.243441</td>\n",
              "      <td>-0.227854</td>\n",
              "      <td>-0.144963</td>\n",
              "      <td>-0.124062</td>\n",
              "      <td>-0.106874</td>\n",
              "      <td>-0.097455</td>\n",
              "      <td>-0.078546</td>\n",
              "      <td>-0.071973</td>\n",
              "      <td>-0.073246</td>\n",
              "      <td>-0.070222</td>\n",
              "      <td>-0.026313</td>\n",
              "      <td>-0.027497</td>\n",
              "      <td>0.634276</td>\n",
              "    </tr>\n",
              "    <tr>\n",
              "      <th>T0005689464</th>\n",
              "      <td>-0.118681</td>\n",
              "      <td>1.098285</td>\n",
              "      <td>-0.033744</td>\n",
              "      <td>0.660250</td>\n",
              "      <td>1.170420</td>\n",
              "      <td>0.003133</td>\n",
              "      <td>0.949106</td>\n",
              "      <td>0.159492</td>\n",
              "      <td>-0.557638</td>\n",
              "      <td>-0.521126</td>\n",
              "      <td>-0.409955</td>\n",
              "      <td>-0.310687</td>\n",
              "      <td>-0.639988</td>\n",
              "      <td>-0.62044</td>\n",
              "      <td>-0.536137</td>\n",
              "      <td>-0.243441</td>\n",
              "      <td>-0.227854</td>\n",
              "      <td>6.898301</td>\n",
              "      <td>-0.124062</td>\n",
              "      <td>-0.106874</td>\n",
              "      <td>-0.097455</td>\n",
              "      <td>-0.078546</td>\n",
              "      <td>-0.071973</td>\n",
              "      <td>-0.073246</td>\n",
              "      <td>-0.070222</td>\n",
              "      <td>-0.026313</td>\n",
              "      <td>-0.027497</td>\n",
              "      <td>0.634276</td>\n",
              "    </tr>\n",
              "    <tr>\n",
              "      <th>T0005689465</th>\n",
              "      <td>0.662888</td>\n",
              "      <td>1.098285</td>\n",
              "      <td>-0.033744</td>\n",
              "      <td>0.611613</td>\n",
              "      <td>-0.755372</td>\n",
              "      <td>0.003133</td>\n",
              "      <td>0.148759</td>\n",
              "      <td>-0.099601</td>\n",
              "      <td>-0.557638</td>\n",
              "      <td>1.918921</td>\n",
              "      <td>-0.409955</td>\n",
              "      <td>-0.310687</td>\n",
              "      <td>-0.639988</td>\n",
              "      <td>-0.62044</td>\n",
              "      <td>-0.536137</td>\n",
              "      <td>-0.243441</td>\n",
              "      <td>-0.227854</td>\n",
              "      <td>-0.144963</td>\n",
              "      <td>-0.124062</td>\n",
              "      <td>-0.106874</td>\n",
              "      <td>-0.097455</td>\n",
              "      <td>-0.078546</td>\n",
              "      <td>-0.071973</td>\n",
              "      <td>-0.073246</td>\n",
              "      <td>-0.070222</td>\n",
              "      <td>-0.026313</td>\n",
              "      <td>-0.027497</td>\n",
              "      <td>0.634276</td>\n",
              "    </tr>\n",
              "    <tr>\n",
              "      <th>T0005689467</th>\n",
              "      <td>0.404321</td>\n",
              "      <td>1.098285</td>\n",
              "      <td>1.106923</td>\n",
              "      <td>0.559137</td>\n",
              "      <td>3.096211</td>\n",
              "      <td>-0.888729</td>\n",
              "      <td>-0.451501</td>\n",
              "      <td>2.318598</td>\n",
              "      <td>-0.557638</td>\n",
              "      <td>1.918921</td>\n",
              "      <td>-0.409955</td>\n",
              "      <td>-0.310687</td>\n",
              "      <td>1.562529</td>\n",
              "      <td>-0.62044</td>\n",
              "      <td>-0.536137</td>\n",
              "      <td>-0.243441</td>\n",
              "      <td>-0.227854</td>\n",
              "      <td>-0.144963</td>\n",
              "      <td>-0.124062</td>\n",
              "      <td>-0.106874</td>\n",
              "      <td>-0.097455</td>\n",
              "      <td>-0.078546</td>\n",
              "      <td>-0.071973</td>\n",
              "      <td>-0.073246</td>\n",
              "      <td>-0.070222</td>\n",
              "      <td>-0.026313</td>\n",
              "      <td>-0.027497</td>\n",
              "      <td>0.634276</td>\n",
              "    </tr>\n",
              "  </tbody>\n",
              "</table>\n",
              "</div>"
            ],
            "text/plain": [
              "             Trip_Distance  ...  Gender_Male\n",
              "Trip_ID                     ...             \n",
              "T0005689460      -1.480363  ...    -1.576600\n",
              "T0005689461      -0.592394  ...     0.634276\n",
              "T0005689464      -0.118681  ...     0.634276\n",
              "T0005689465       0.662888  ...     0.634276\n",
              "T0005689467       0.404321  ...     0.634276\n",
              "\n",
              "[5 rows x 28 columns]"
            ]
          },
          "metadata": {
            "tags": []
          },
          "execution_count": 19
        }
      ]
    },
    {
      "cell_type": "code",
      "metadata": {
        "colab": {
          "base_uri": "https://localhost:8080/",
          "height": 1000
        },
        "id": "0WmXZRlZhH5X",
        "outputId": "9635bfe6-b0b7-4f92-d066-093b699b9c61"
      },
      "source": [
        "for i in x.columns:\n",
        "  sns.boxplot(x[i])\n",
        "  plt.show()"
      ],
      "execution_count": 20,
      "outputs": [
        {
          "output_type": "stream",
          "text": [
            "/usr/local/lib/python3.7/dist-packages/seaborn/_decorators.py:43: FutureWarning: Pass the following variable as a keyword arg: x. From version 0.12, the only valid positional argument will be `data`, and passing other arguments without an explicit keyword will result in an error or misinterpretation.\n",
            "  FutureWarning\n"
          ],
          "name": "stderr"
        },
        {
          "output_type": "display_data",
          "data": {
            "image/png": "[encoded data removed]",
            "text/plain": [
              "<Figure size 432x288 with 1 Axes>"
            ]
          },
          "metadata": {
            "tags": [],
            "needs_background": "light"
          }
        },
        {
          "output_type": "stream",
          "text": [
            "/usr/local/lib/python3.7/dist-packages/seaborn/_decorators.py:43: FutureWarning: Pass the following variable as a keyword arg: x. From version 0.12, the only valid positional argument will be `data`, and passing other arguments without an explicit keyword will result in an error or misinterpretation.\n",
            "  FutureWarning\n"
          ],
          "name": "stderr"
        },
        {
          "output_type": "display_data",
          "data": {
            "image/png": "[encoded data removed]",
            "text/plain": [
              "<Figure size 432x288 with 1 Axes>"
            ]
          },
          "metadata": {
            "tags": [],
            "needs_background": "light"
          }
        },
        {
          "output_type": "stream",
          "text": [
            "/usr/local/lib/python3.7/dist-packages/seaborn/_decorators.py:43: FutureWarning: Pass the following variable as a keyword arg: x. From version 0.12, the only valid positional argument will be `data`, and passing other arguments without an explicit keyword will result in an error or misinterpretation.\n",
            "  FutureWarning\n"
          ],
          "name": "stderr"
        },
        {
          "output_type": "display_data",
          "data": {
            "image/png": "[encoded data removed]",
            "text/plain": [
              "<Figure size 432x288 with 1 Axes>"
            ]
          },
          "metadata": {
            "tags": [],
            "needs_background": "light"
          }
        },
        {
          "output_type": "stream",
          "text": [
            "/usr/local/lib/python3.7/dist-packages/seaborn/_decorators.py:43: FutureWarning: Pass the following variable as a keyword arg: x. From version 0.12, the only valid positional argument will be `data`, and passing other arguments without an explicit keyword will result in an error or misinterpretation.\n",
            "  FutureWarning\n"
          ],
          "name": "stderr"
        },
        {
          "output_type": "display_data",
          "data": {
            "image/png": "[encoded data removed]",
            "text/plain": [
              "<Figure size 432x288 with 1 Axes>"
            ]
          },
          "metadata": {
            "tags": [],
            "needs_background": "light"
          }
        },
        {
          "output_type": "stream",
          "text": [
            "/usr/local/lib/python3.7/dist-packages/seaborn/_decorators.py:43: FutureWarning: Pass the following variable as a keyword arg: x. From version 0.12, the only valid positional argument will be `data`, and passing other arguments without an explicit keyword will result in an error or misinterpretation.\n",
            "  FutureWarning\n"
          ],
          "name": "stderr"
        },
        {
          "output_type": "display_data",
          "data": {
            "image/png": "[encoded data removed]",
            "text/plain": [
              "<Figure size 432x288 with 1 Axes>"
            ]
          },
          "metadata": {
            "tags": [],
            "needs_background": "light"
          }
        },
        {
          "output_type": "stream",
          "text": [
            "/usr/local/lib/python3.7/dist-packages/seaborn/_decorators.py:43: FutureWarning: Pass the following variable as a keyword arg: x. From version 0.12, the only valid positional argument will be `data`, and passing other arguments without an explicit keyword will result in an error or misinterpretation.\n",
            "  FutureWarning\n"
          ],
          "name": "stderr"
        },
        {
          "output_type": "display_data",
          "data": {
            "image/png": "[encoded data removed]",
            "text/plain": [
              "<Figure size 432x288 with 1 Axes>"
            ]
          },
          "metadata": {
            "tags": [],
            "needs_background": "light"
          }
        },
        {
          "output_type": "stream",
          "text": [
            "/usr/local/lib/python3.7/dist-packages/seaborn/_decorators.py:43: FutureWarning: Pass the following variable as a keyword arg: x. From version 0.12, the only valid positional argument will be `data`, and passing other arguments without an explicit keyword will result in an error or misinterpretation.\n",
            "  FutureWarning\n"
          ],
          "name": "stderr"
        },
        {
          "output_type": "display_data",
          "data": {
            "image/png": "[encoded data removed]",
            "text/plain": [
              "<Figure size 432x288 with 1 Axes>"
            ]
          },
          "metadata": {
            "tags": [],
            "needs_background": "light"
          }
        },
        {
          "output_type": "stream",
          "text": [
            "/usr/local/lib/python3.7/dist-packages/seaborn/_decorators.py:43: FutureWarning: Pass the following variable as a keyword arg: x. From version 0.12, the only valid positional argument will be `data`, and passing other arguments without an explicit keyword will result in an error or misinterpretation.\n",
            "  FutureWarning\n"
          ],
          "name": "stderr"
        },
        {
          "output_type": "display_data",
          "data": {
            "image/png": "[encoded data removed]",
            "text/plain": [
              "<Figure size 432x288 with 1 Axes>"
            ]
          },
          "metadata": {
            "tags": [],
            "needs_background": "light"
          }
        },
        {
          "output_type": "stream",
          "text": [
            "/usr/local/lib/python3.7/dist-packages/seaborn/_decorators.py:43: FutureWarning: Pass the following variable as a keyword arg: x. From version 0.12, the only valid positional argument will be `data`, and passing other arguments without an explicit keyword will result in an error or misinterpretation.\n",
            "  FutureWarning\n"
          ],
          "name": "stderr"
        },
        {
          "output_type": "display_data",
          "data": {
            "image/png": "[encoded data removed]",
            "text/plain": [
              "<Figure size 432x288 with 1 Axes>"
            ]
          },
          "metadata": {
            "tags": [],
            "needs_background": "light"
          }
        },
        {
          "output_type": "stream",
          "text": [
            "/usr/local/lib/python3.7/dist-packages/seaborn/_decorators.py:43: FutureWarning: Pass the following variable as a keyword arg: x. From version 0.12, the only valid positional argument will be `data`, and passing other arguments without an explicit keyword will result in an error or misinterpretation.\n",
            "  FutureWarning\n"
          ],
          "name": "stderr"
        },
        {
          "output_type": "display_data",
          "data": {
            "image/png": "[encoded data removed]",
            "text/plain": [
              "<Figure size 432x288 with 1 Axes>"
            ]
          },
          "metadata": {
            "tags": [],
            "needs_background": "light"
          }
        },
        {
          "output_type": "stream",
          "text": [
            "/usr/local/lib/python3.7/dist-packages/seaborn/_decorators.py:43: FutureWarning: Pass the following variable as a keyword arg: x. From version 0.12, the only valid positional argument will be `data`, and passing other arguments without an explicit keyword will result in an error or misinterpretation.\n",
            "  FutureWarning\n"
          ],
          "name": "stderr"
        },
        {
          "output_type": "display_data",
          "data": {
            "image/png": "[encoded data removed]",
            "text/plain": [
              "<Figure size 432x288 with 1 Axes>"
            ]
          },
          "metadata": {
            "tags": [],
            "needs_background": "light"
          }
        },
        {
          "output_type": "stream",
          "text": [
            "/usr/local/lib/python3.7/dist-packages/seaborn/_decorators.py:43: FutureWarning: Pass the following variable as a keyword arg: x. From version 0.12, the only valid positional argument will be `data`, and passing other arguments without an explicit keyword will result in an error or misinterpretation.\n",
            "  FutureWarning\n"
          ],
          "name": "stderr"
        },
        {
          "output_type": "display_data",
          "data": {
            "image/png": "[encoded data removed]",
            "text/plain": [
              "<Figure size 432x288 with 1 Axes>"
            ]
          },
          "metadata": {
            "tags": [],
            "needs_background": "light"
          }
        },
        {
          "output_type": "stream",
          "text": [
            "/usr/local/lib/python3.7/dist-packages/seaborn/_decorators.py:43: FutureWarning: Pass the following variable as a keyword arg: x. From version 0.12, the only valid positional argument will be `data`, and passing other arguments without an explicit keyword will result in an error or misinterpretation.\n",
            "  FutureWarning\n"
          ],
          "name": "stderr"
        },
        {
          "output_type": "display_data",
          "data": {
            "image/png": "[encoded data removed]",
            "text/plain": [
              "<Figure size 432x288 with 1 Axes>"
            ]
          },
          "metadata": {
            "tags": [],
            "needs_background": "light"
          }
        },
        {
          "output_type": "stream",
          "text": [
            "/usr/local/lib/python3.7/dist-packages/seaborn/_decorators.py:43: FutureWarning: Pass the following variable as a keyword arg: x. From version 0.12, the only valid positional argument will be `data`, and passing other arguments without an explicit keyword will result in an error or misinterpretation.\n",
            "  FutureWarning\n"
          ],
          "name": "stderr"
        },
        {
          "output_type": "display_data",
          "data": {
            "image/png": "[encoded data removed]",
            "text/plain": [
              "<Figure size 432x288 with 1 Axes>"
            ]
          },
          "metadata": {
            "tags": [],
            "needs_background": "light"
          }
        },
        {
          "output_type": "stream",
          "text": [
            "/usr/local/lib/python3.7/dist-packages/seaborn/_decorators.py:43: FutureWarning: Pass the following variable as a keyword arg: x. From version 0.12, the only valid positional argument will be `data`, and passing other arguments without an explicit keyword will result in an error or misinterpretation.\n",
            "  FutureWarning\n"
          ],
          "name": "stderr"
        },
        {
          "output_type": "display_data",
          "data": {
            "image/png": "[encoded data removed]",
            "text/plain": [
              "<Figure size 432x288 with 1 Axes>"
            ]
          },
          "metadata": {
            "tags": [],
            "needs_background": "light"
          }
        },
        {
          "output_type": "stream",
          "text": [
            "/usr/local/lib/python3.7/dist-packages/seaborn/_decorators.py:43: FutureWarning: Pass the following variable as a keyword arg: x. From version 0.12, the only valid positional argument will be `data`, and passing other arguments without an explicit keyword will result in an error or misinterpretation.\n",
            "  FutureWarning\n"
          ],
          "name": "stderr"
        },
        {
          "output_type": "display_data",
          "data": {
            "image/png": "[encoded data removed]",
            "text/plain": [
              "<Figure size 432x288 with 1 Axes>"
            ]
          },
          "metadata": {
            "tags": [],
            "needs_background": "light"
          }
        },
        {
          "output_type": "stream",
          "text": [
            "/usr/local/lib/python3.7/dist-packages/seaborn/_decorators.py:43: FutureWarning: Pass the following variable as a keyword arg: x. From version 0.12, the only valid positional argument will be `data`, and passing other arguments without an explicit keyword will result in an error or misinterpretation.\n",
            "  FutureWarning\n"
          ],
          "name": "stderr"
        },
        {
          "output_type": "display_data",
          "data": {
            "image/png": "[encoded data removed]",
            "text/plain": [
              "<Figure size 432x288 with 1 Axes>"
            ]
          },
          "metadata": {
            "tags": [],
            "needs_background": "light"
          }
        },
        {
          "output_type": "stream",
          "text": [
            "/usr/local/lib/python3.7/dist-packages/seaborn/_decorators.py:43: FutureWarning: Pass the following variable as a keyword arg: x. From version 0.12, the only valid positional argument will be `data`, and passing other arguments without an explicit keyword will result in an error or misinterpretation.\n",
            "  FutureWarning\n"
          ],
          "name": "stderr"
        },
        {
          "output_type": "display_data",
          "data": {
            "image/png": "[encoded data removed]",
            "text/plain": [
              "<Figure size 432x288 with 1 Axes>"
            ]
          },
          "metadata": {
            "tags": [],
            "needs_background": "light"
          }
        },
        {
          "output_type": "stream",
          "text": [
            "/usr/local/lib/python3.7/dist-packages/seaborn/_decorators.py:43: FutureWarning: Pass the following variable as a keyword arg: x. From version 0.12, the only valid positional argument will be `data`, and passing other arguments without an explicit keyword will result in an error or misinterpretation.\n",
            "  FutureWarning\n"
          ],
          "name": "stderr"
        },
        {
          "output_type": "display_data",
          "data": {
            "image/png": "[encoded data removed]",
            "text/plain": [
              "<Figure size 432x288 with 1 Axes>"
            ]
          },
          "metadata": {
            "tags": [],
            "needs_background": "light"
          }
        },
        {
          "output_type": "stream",
          "text": [
            "/usr/local/lib/python3.7/dist-packages/seaborn/_decorators.py:43: FutureWarning: Pass the following variable as a keyword arg: x. From version 0.12, the only valid positional argument will be `data`, and passing other arguments without an explicit keyword will result in an error or misinterpretation.\n",
            "  FutureWarning\n"
          ],
          "name": "stderr"
        },
        {
          "output_type": "display_data",
          "data": {
            "image/png": "[encoded data removed]",
            "text/plain": [
              "<Figure size 432x288 with 1 Axes>"
            ]
          },
          "metadata": {
            "tags": [],
            "needs_background": "light"
          }
        },
        {
          "output_type": "stream",
          "text": [
            "/usr/local/lib/python3.7/dist-packages/seaborn/_decorators.py:43: FutureWarning: Pass the following variable as a keyword arg: x. From version 0.12, the only valid positional argument will be `data`, and passing other arguments without an explicit keyword will result in an error or misinterpretation.\n",
            "  FutureWarning\n"
          ],
          "name": "stderr"
        },
        {
          "output_type": "display_data",
          "data": {
            "image/png": "[encoded data removed]",
            "text/plain": [
              "<Figure size 432x288 with 1 Axes>"
            ]
          },
          "metadata": {
            "tags": [],
            "needs_background": "light"
          }
        },
        {
          "output_type": "stream",
          "text": [
            "/usr/local/lib/python3.7/dist-packages/seaborn/_decorators.py:43: FutureWarning: Pass the following variable as a keyword arg: x. From version 0.12, the only valid positional argument will be `data`, and passing other arguments without an explicit keyword will result in an error or misinterpretation.\n",
            "  FutureWarning\n"
          ],
          "name": "stderr"
        },
        {
          "output_type": "display_data",
          "data": {
            "image/png": "[encoded data removed]",
            "text/plain": [
              "<Figure size 432x288 with 1 Axes>"
            ]
          },
          "metadata": {
            "tags": [],
            "needs_background": "light"
          }
        },
        {
          "output_type": "stream",
          "text": [
            "/usr/local/lib/python3.7/dist-packages/seaborn/_decorators.py:43: FutureWarning: Pass the following variable as a keyword arg: x. From version 0.12, the only valid positional argument will be `data`, and passing other arguments without an explicit keyword will result in an error or misinterpretation.\n",
            "  FutureWarning\n"
          ],
          "name": "stderr"
        },
        {
          "output_type": "display_data",
          "data": {
            "image/png": "[encoded data removed]",
            "text/plain": [
              "<Figure size 432x288 with 1 Axes>"
            ]
          },
          "metadata": {
            "tags": [],
            "needs_background": "light"
          }
        },
        {
          "output_type": "stream",
          "text": [
            "/usr/local/lib/python3.7/dist-packages/seaborn/_decorators.py:43: FutureWarning: Pass the following variable as a keyword arg: x. From version 0.12, the only valid positional argument will be `data`, and passing other arguments without an explicit keyword will result in an error or misinterpretation.\n",
            "  FutureWarning\n"
          ],
          "name": "stderr"
        },
        {
          "output_type": "display_data",
          "data": {
            "image/png": "[encoded data removed]",
            "text/plain": [
              "<Figure size 432x288 with 1 Axes>"
            ]
          },
          "metadata": {
            "tags": [],
            "needs_background": "light"
          }
        },
        {
          "output_type": "stream",
          "text": [
            "/usr/local/lib/python3.7/dist-packages/seaborn/_decorators.py:43: FutureWarning: Pass the following variable as a keyword arg: x. From version 0.12, the only valid positional argument will be `data`, and passing other arguments without an explicit keyword will result in an error or misinterpretation.\n",
            "  FutureWarning\n"
          ],
          "name": "stderr"
        },
        {
          "output_type": "display_data",
          "data": {
            "image/png": "[encoded data removed]",
            "text/plain": [
              "<Figure size 432x288 with 1 Axes>"
            ]
          },
          "metadata": {
            "tags": [],
            "needs_background": "light"
          }
        },
        {
          "output_type": "stream",
          "text": [
            "/usr/local/lib/python3.7/dist-packages/seaborn/_decorators.py:43: FutureWarning: Pass the following variable as a keyword arg: x. From version 0.12, the only valid positional argument will be `data`, and passing other arguments without an explicit keyword will result in an error or misinterpretation.\n",
            "  FutureWarning\n"
          ],
          "name": "stderr"
        },
        {
          "output_type": "display_data",
          "data": {
            "image/png": "[encoded data removed]",
            "text/plain": [
              "<Figure size 432x288 with 1 Axes>"
            ]
          },
          "metadata": {
            "tags": [],
            "needs_background": "light"
          }
        },
        {
          "output_type": "stream",
          "text": [
            "/usr/local/lib/python3.7/dist-packages/seaborn/_decorators.py:43: FutureWarning: Pass the following variable as a keyword arg: x. From version 0.12, the only valid positional argument will be `data`, and passing other arguments without an explicit keyword will result in an error or misinterpretation.\n",
            "  FutureWarning\n"
          ],
          "name": "stderr"
        },
        {
          "output_type": "display_data",
          "data": {
            "image/png": "[encoded data removed]",
            "text/plain": [
              "<Figure size 432x288 with 1 Axes>"
            ]
          },
          "metadata": {
            "tags": [],
            "needs_background": "light"
          }
        },
        {
          "output_type": "stream",
          "text": [
            "/usr/local/lib/python3.7/dist-packages/seaborn/_decorators.py:43: FutureWarning: Pass the following variable as a keyword arg: x. From version 0.12, the only valid positional argument will be `data`, and passing other arguments without an explicit keyword will result in an error or misinterpretation.\n",
            "  FutureWarning\n"
          ],
          "name": "stderr"
        },
        {
          "output_type": "display_data",
          "data": {
            "image/png": "[encoded data removed]",
            "text/plain": [
              "<Figure size 432x288 with 1 Axes>"
            ]
          },
          "metadata": {
            "tags": [],
            "needs_background": "light"
          }
        }
      ]
    },
    {
      "cell_type": "code",
      "metadata": {
        "id": "RUp_MluYnSzL"
      },
      "source": [
        "cov_matrix = np.cov(x.T)\n",
        "eig_vals = np.linalg.eigvals(cov_matrix)"
      ],
      "execution_count": 21,
      "outputs": []
    },
    {
      "cell_type": "code",
      "metadata": {
        "colab": {
          "base_uri": "https://localhost:8080/"
        },
        "id": "3_ItyMsMnSwf",
        "outputId": "c1a4ccae-f0e5-4c82-9637-68f53c99df00"
      },
      "source": [
        "tot = np.sum(eig_vals)\n",
        "var_exp = [(i/tot)*100for i in sorted(eig_vals,reverse=True)]\n",
        "cum_var_exp = np.cumsum(var_exp)\n",
        "cum_var_exp"
      ],
      "execution_count": 22,
      "outputs": [
        {
          "output_type": "execute_result",
          "data": {
            "text/plain": [
              "array([  8.12134875,  13.35536234,  18.27640523,  23.04577507,\n",
              "        27.52931194,  31.70336697,  35.71599634,  39.5447818 ,\n",
              "        43.2178562 ,  46.86442315,  50.4973823 ,  54.11632937,\n",
              "        57.71630714,  61.31086557,  64.90242646,  68.48572929,\n",
              "        72.05539908,  75.61441262,  79.16063227,  82.65459612,\n",
              "        86.07945066,  89.32103832,  92.12797018,  94.34259582,\n",
              "        96.08271392,  97.56219038,  98.9212918 , 100.        ])"
            ]
          },
          "metadata": {
            "tags": []
          },
          "execution_count": 22
        }
      ]
    },
    {
      "cell_type": "code",
      "metadata": {
        "colab": {
          "base_uri": "https://localhost:8080/"
        },
        "id": "EzzoGksooTVh",
        "outputId": "2f37054a-3d6b-47d7-c07d-6241d732c9aa"
      },
      "source": [
        "var_exp"
      ],
      "execution_count": 23,
      "outputs": [
        {
          "output_type": "execute_result",
          "data": {
            "text/plain": [
              "[8.121348745276178,\n",
              " 5.234013593281268,\n",
              " 4.921042891139842,\n",
              " 4.769369840228153,\n",
              " 4.483536865161106,\n",
              " 4.174055037516049,\n",
              " 4.01262937100588,\n",
              " 3.828785457745556,\n",
              " 3.6730743971240924,\n",
              " 3.6465669563471366,\n",
              " 3.6329591453896977,\n",
              " 3.618947071334645,\n",
              " 3.5999777718747725,\n",
              " 3.5945584245014,\n",
              " 3.5915608878676486,\n",
              " 3.583302831166598,\n",
              " 3.569669797913516,\n",
              " 3.5590135375510727,\n",
              " 3.546219644935066,\n",
              " 3.4939638545709335,\n",
              " 3.4248545410902733,\n",
              " 3.2415876618102155,\n",
              " 2.8069318583994445,\n",
              " 2.2146256402823012,\n",
              " 1.7401180933719087,\n",
              " 1.4794764608404911,\n",
              " 1.3591014224147606,\n",
              " 1.0787081998600119]"
            ]
          },
          "metadata": {
            "tags": []
          },
          "execution_count": 23
        }
      ]
    },
    {
      "cell_type": "code",
      "metadata": {
        "colab": {
          "base_uri": "https://localhost:8080/",
          "height": 442
        },
        "id": "AMaGo3XcnSkb",
        "outputId": "88f02143-8587-4a8f-d464-9434bce09cb7"
      },
      "source": [
        "plt.figure(figsize=(18,7))\n",
        "sns.lineplot(range(28),cum_var_exp,marker='o')\n",
        "plt.bar(x = range(28),height= var_exp)\n",
        "plt.yticks(ticks = range(0,101,10))\n",
        "plt.grid()\n",
        "plt.show()"
      ],
      "execution_count": 24,
      "outputs": [
        {
          "output_type": "stream",
          "text": [
            "/usr/local/lib/python3.7/dist-packages/seaborn/_decorators.py:43: FutureWarning: Pass the following variables as keyword args: x, y. From version 0.12, the only valid positional argument will be `data`, and passing other arguments without an explicit keyword will result in an error or misinterpretation.\n",
            "  FutureWarning\n"
          ],
          "name": "stderr"
        },
        {
          "output_type": "display_data",
          "data": {
            "image/png": "[encoded data removed]",
            "text/plain": [
              "<Figure size 1296x504 with 1 Axes>"
            ]
          },
          "metadata": {
            "tags": [],
            "needs_background": "light"
          }
        }
      ]
    },
    {
      "cell_type": "code",
      "metadata": {
        "id": "YUlpIWvjoxEE"
      },
      "source": [
        "from sklearn.decomposition import PCA"
      ],
      "execution_count": 25,
      "outputs": []
    },
    {
      "cell_type": "code",
      "metadata": {
        "colab": {
          "base_uri": "https://localhost:8080/"
        },
        "id": "eQanT6rDowns",
        "outputId": "67360f31-3600-4991-8c30-d3558df01776"
      },
      "source": [
        "pca = PCA(n_components=21)\n",
        "comp = pca.fit_transform(x)\n",
        "comp"
      ],
      "execution_count": 26,
      "outputs": [
        {
          "output_type": "execute_result",
          "data": {
            "text/plain": [
              "array([[-3.16777992,  0.37167382,  0.80516403, ...,  0.34274419,\n",
              "        -1.48734744, -0.52201133],\n",
              "       [ 0.65993541, -0.50061217,  0.70823629, ..., -1.03455489,\n",
              "        -1.0998446 ,  0.44782591],\n",
              "       [ 0.10243963, -0.46931575, -0.01603389, ...,  0.858992  ,\n",
              "        -0.15481244,  0.60522074],\n",
              "       ...,\n",
              "       [ 0.31088023, -1.63629534, -0.68975554, ...,  0.6824911 ,\n",
              "         0.09412353,  0.76472458],\n",
              "       [ 0.52925673,  0.05164144,  2.37055288, ..., -1.02435683,\n",
              "         0.11250292, -1.56021953],\n",
              "       [ 0.46011788,  0.18537417, -0.25026097, ...,  1.40026526,\n",
              "         1.29314232,  1.50484505]])"
            ]
          },
          "metadata": {
            "tags": []
          },
          "execution_count": 26
        }
      ]
    },
    {
      "cell_type": "code",
      "metadata": {
        "colab": {
          "base_uri": "https://localhost:8080/",
          "height": 439
        },
        "id": "FPEU8inbowlG",
        "outputId": "0967fe1c-7935-4900-e08c-de5b84acc995"
      },
      "source": [
        "pca_df = pd.DataFrame(data = comp)\n",
        "pca_df"
      ],
      "execution_count": 27,
      "outputs": [
        {
          "output_type": "execute_result",
          "data": {
            "text/html": [
              "<div>\n",
              "<style scoped>\n",
              "    .dataframe tbody tr th:only-of-type {\n",
              "        vertical-align: middle;\n",
              "    }\n",
              "\n",
              "    .dataframe tbody tr th {\n",
              "        vertical-align: top;\n",
              "    }\n",
              "\n",
              "    .dataframe thead th {\n",
              "        text-align: right;\n",
              "    }\n",
              "</style>\n",
              "<table border=\"1\" class=\"dataframe\">\n",
              "  <thead>\n",
              "    <tr style=\"text-align: right;\">\n",
              "      <th></th>\n",
              "      <th>0</th>\n",
              "      <th>1</th>\n",
              "      <th>2</th>\n",
              "      <th>3</th>\n",
              "      <th>4</th>\n",
              "      <th>5</th>\n",
              "      <th>6</th>\n",
              "      <th>7</th>\n",
              "      <th>8</th>\n",
              "      <th>9</th>\n",
              "      <th>10</th>\n",
              "      <th>11</th>\n",
              "      <th>12</th>\n",
              "      <th>13</th>\n",
              "      <th>14</th>\n",
              "      <th>15</th>\n",
              "      <th>16</th>\n",
              "      <th>17</th>\n",
              "      <th>18</th>\n",
              "      <th>19</th>\n",
              "      <th>20</th>\n",
              "    </tr>\n",
              "  </thead>\n",
              "  <tbody>\n",
              "    <tr>\n",
              "      <th>0</th>\n",
              "      <td>-3.167780</td>\n",
              "      <td>0.371674</td>\n",
              "      <td>0.805164</td>\n",
              "      <td>-1.364272</td>\n",
              "      <td>0.703975</td>\n",
              "      <td>0.699474</td>\n",
              "      <td>0.009232</td>\n",
              "      <td>0.281158</td>\n",
              "      <td>-0.371138</td>\n",
              "      <td>-0.359210</td>\n",
              "      <td>1.142342</td>\n",
              "      <td>-0.484835</td>\n",
              "      <td>0.361691</td>\n",
              "      <td>-0.539960</td>\n",
              "      <td>0.298044</td>\n",
              "      <td>0.835371</td>\n",
              "      <td>-0.935906</td>\n",
              "      <td>0.000718</td>\n",
              "      <td>0.342744</td>\n",
              "      <td>-1.487347</td>\n",
              "      <td>-0.522011</td>\n",
              "    </tr>\n",
              "    <tr>\n",
              "      <th>1</th>\n",
              "      <td>0.659935</td>\n",
              "      <td>-0.500612</td>\n",
              "      <td>0.708236</td>\n",
              "      <td>-1.794151</td>\n",
              "      <td>0.732081</td>\n",
              "      <td>0.873106</td>\n",
              "      <td>-0.365992</td>\n",
              "      <td>-0.774808</td>\n",
              "      <td>-0.484604</td>\n",
              "      <td>-0.674003</td>\n",
              "      <td>0.800628</td>\n",
              "      <td>0.016578</td>\n",
              "      <td>0.002546</td>\n",
              "      <td>0.203959</td>\n",
              "      <td>0.333208</td>\n",
              "      <td>-0.016269</td>\n",
              "      <td>-0.233780</td>\n",
              "      <td>0.556152</td>\n",
              "      <td>-1.034555</td>\n",
              "      <td>-1.099845</td>\n",
              "      <td>0.447826</td>\n",
              "    </tr>\n",
              "    <tr>\n",
              "      <th>2</th>\n",
              "      <td>0.102440</td>\n",
              "      <td>-0.469316</td>\n",
              "      <td>-0.016034</td>\n",
              "      <td>0.717033</td>\n",
              "      <td>0.769851</td>\n",
              "      <td>2.053445</td>\n",
              "      <td>-0.292817</td>\n",
              "      <td>1.448435</td>\n",
              "      <td>-1.472927</td>\n",
              "      <td>-4.642981</td>\n",
              "      <td>-3.552392</td>\n",
              "      <td>-1.023240</td>\n",
              "      <td>0.181247</td>\n",
              "      <td>0.172348</td>\n",
              "      <td>-0.727384</td>\n",
              "      <td>-1.153051</td>\n",
              "      <td>0.578909</td>\n",
              "      <td>0.271690</td>\n",
              "      <td>0.858992</td>\n",
              "      <td>-0.154812</td>\n",
              "      <td>0.605221</td>\n",
              "    </tr>\n",
              "    <tr>\n",
              "      <th>3</th>\n",
              "      <td>0.150250</td>\n",
              "      <td>-0.353403</td>\n",
              "      <td>-0.220404</td>\n",
              "      <td>0.330168</td>\n",
              "      <td>-1.969153</td>\n",
              "      <td>0.183633</td>\n",
              "      <td>-0.373726</td>\n",
              "      <td>-0.689299</td>\n",
              "      <td>-0.170161</td>\n",
              "      <td>-0.306870</td>\n",
              "      <td>0.040466</td>\n",
              "      <td>0.180192</td>\n",
              "      <td>-0.129266</td>\n",
              "      <td>0.186520</td>\n",
              "      <td>-0.032431</td>\n",
              "      <td>-0.122184</td>\n",
              "      <td>0.109948</td>\n",
              "      <td>0.118125</td>\n",
              "      <td>-0.520774</td>\n",
              "      <td>0.121205</td>\n",
              "      <td>0.964615</td>\n",
              "    </tr>\n",
              "    <tr>\n",
              "      <th>4</th>\n",
              "      <td>2.430105</td>\n",
              "      <td>-1.546736</td>\n",
              "      <td>-1.202034</td>\n",
              "      <td>0.641672</td>\n",
              "      <td>-1.321082</td>\n",
              "      <td>1.810091</td>\n",
              "      <td>-0.515354</td>\n",
              "      <td>0.503330</td>\n",
              "      <td>-0.400760</td>\n",
              "      <td>0.060917</td>\n",
              "      <td>-0.150814</td>\n",
              "      <td>0.215046</td>\n",
              "      <td>0.060228</td>\n",
              "      <td>0.151303</td>\n",
              "      <td>0.299311</td>\n",
              "      <td>-0.072482</td>\n",
              "      <td>0.050565</td>\n",
              "      <td>0.197753</td>\n",
              "      <td>-0.724256</td>\n",
              "      <td>0.246402</td>\n",
              "      <td>-1.166884</td>\n",
              "    </tr>\n",
              "    <tr>\n",
              "      <th>...</th>\n",
              "      <td>...</td>\n",
              "      <td>...</td>\n",
              "      <td>...</td>\n",
              "      <td>...</td>\n",
              "      <td>...</td>\n",
              "      <td>...</td>\n",
              "      <td>...</td>\n",
              "      <td>...</td>\n",
              "      <td>...</td>\n",
              "      <td>...</td>\n",
              "      <td>...</td>\n",
              "      <td>...</td>\n",
              "      <td>...</td>\n",
              "      <td>...</td>\n",
              "      <td>...</td>\n",
              "      <td>...</td>\n",
              "      <td>...</td>\n",
              "      <td>...</td>\n",
              "      <td>...</td>\n",
              "      <td>...</td>\n",
              "      <td>...</td>\n",
              "    </tr>\n",
              "    <tr>\n",
              "      <th>125737</th>\n",
              "      <td>-1.461318</td>\n",
              "      <td>0.166249</td>\n",
              "      <td>-0.776509</td>\n",
              "      <td>0.546473</td>\n",
              "      <td>1.333551</td>\n",
              "      <td>-0.901769</td>\n",
              "      <td>-1.427342</td>\n",
              "      <td>0.639527</td>\n",
              "      <td>0.029825</td>\n",
              "      <td>-0.167584</td>\n",
              "      <td>0.244361</td>\n",
              "      <td>-0.090387</td>\n",
              "      <td>-0.224590</td>\n",
              "      <td>0.269081</td>\n",
              "      <td>0.111792</td>\n",
              "      <td>-0.359314</td>\n",
              "      <td>0.124911</td>\n",
              "      <td>0.389968</td>\n",
              "      <td>-0.466952</td>\n",
              "      <td>-0.184074</td>\n",
              "      <td>-0.226312</td>\n",
              "    </tr>\n",
              "    <tr>\n",
              "      <th>125738</th>\n",
              "      <td>2.565873</td>\n",
              "      <td>2.628221</td>\n",
              "      <td>-0.741580</td>\n",
              "      <td>0.938128</td>\n",
              "      <td>-1.663555</td>\n",
              "      <td>0.001478</td>\n",
              "      <td>0.114587</td>\n",
              "      <td>-0.468681</td>\n",
              "      <td>-0.124019</td>\n",
              "      <td>-0.228810</td>\n",
              "      <td>0.124884</td>\n",
              "      <td>0.159774</td>\n",
              "      <td>-0.136044</td>\n",
              "      <td>0.439535</td>\n",
              "      <td>-0.103638</td>\n",
              "      <td>-0.297343</td>\n",
              "      <td>0.282100</td>\n",
              "      <td>-0.215761</td>\n",
              "      <td>-0.244937</td>\n",
              "      <td>-0.363857</td>\n",
              "      <td>1.564013</td>\n",
              "    </tr>\n",
              "    <tr>\n",
              "      <th>125739</th>\n",
              "      <td>0.310880</td>\n",
              "      <td>-1.636295</td>\n",
              "      <td>-0.689756</td>\n",
              "      <td>-0.373582</td>\n",
              "      <td>-1.968237</td>\n",
              "      <td>0.192807</td>\n",
              "      <td>-0.463615</td>\n",
              "      <td>-0.632281</td>\n",
              "      <td>-0.237589</td>\n",
              "      <td>-0.328107</td>\n",
              "      <td>0.337479</td>\n",
              "      <td>-0.067170</td>\n",
              "      <td>0.343357</td>\n",
              "      <td>-0.821163</td>\n",
              "      <td>-0.230728</td>\n",
              "      <td>0.955392</td>\n",
              "      <td>-0.747512</td>\n",
              "      <td>-0.179434</td>\n",
              "      <td>0.682491</td>\n",
              "      <td>0.094124</td>\n",
              "      <td>0.764725</td>\n",
              "    </tr>\n",
              "    <tr>\n",
              "      <th>125740</th>\n",
              "      <td>0.529257</td>\n",
              "      <td>0.051641</td>\n",
              "      <td>2.370553</td>\n",
              "      <td>-1.192795</td>\n",
              "      <td>0.092549</td>\n",
              "      <td>0.290533</td>\n",
              "      <td>-0.150661</td>\n",
              "      <td>0.912229</td>\n",
              "      <td>-0.536442</td>\n",
              "      <td>-0.046231</td>\n",
              "      <td>0.384726</td>\n",
              "      <td>-0.128747</td>\n",
              "      <td>-0.088392</td>\n",
              "      <td>0.179737</td>\n",
              "      <td>0.338310</td>\n",
              "      <td>-0.064622</td>\n",
              "      <td>-0.140255</td>\n",
              "      <td>0.569702</td>\n",
              "      <td>-1.024357</td>\n",
              "      <td>0.112503</td>\n",
              "      <td>-1.560220</td>\n",
              "    </tr>\n",
              "    <tr>\n",
              "      <th>125741</th>\n",
              "      <td>0.460118</td>\n",
              "      <td>0.185374</td>\n",
              "      <td>-0.250261</td>\n",
              "      <td>0.247345</td>\n",
              "      <td>0.838611</td>\n",
              "      <td>1.981669</td>\n",
              "      <td>-0.136757</td>\n",
              "      <td>1.514592</td>\n",
              "      <td>-1.124152</td>\n",
              "      <td>-4.093797</td>\n",
              "      <td>-4.334433</td>\n",
              "      <td>-0.813283</td>\n",
              "      <td>0.028279</td>\n",
              "      <td>0.135883</td>\n",
              "      <td>-1.237038</td>\n",
              "      <td>-1.288959</td>\n",
              "      <td>1.079516</td>\n",
              "      <td>-0.537963</td>\n",
              "      <td>1.400265</td>\n",
              "      <td>1.293142</td>\n",
              "      <td>1.504845</td>\n",
              "    </tr>\n",
              "  </tbody>\n",
              "</table>\n",
              "<p>125742 rows × 21 columns</p>\n",
              "</div>"
            ],
            "text/plain": [
              "              0         1         2   ...        18        19        20\n",
              "0      -3.167780  0.371674  0.805164  ...  0.342744 -1.487347 -0.522011\n",
              "1       0.659935 -0.500612  0.708236  ... -1.034555 -1.099845  0.447826\n",
              "2       0.102440 -0.469316 -0.016034  ...  0.858992 -0.154812  0.605221\n",
              "3       0.150250 -0.353403 -0.220404  ... -0.520774  0.121205  0.964615\n",
              "4       2.430105 -1.546736 -1.202034  ... -0.724256  0.246402 -1.166884\n",
              "...          ...       ...       ...  ...       ...       ...       ...\n",
              "125737 -1.461318  0.166249 -0.776509  ... -0.466952 -0.184074 -0.226312\n",
              "125738  2.565873  2.628221 -0.741580  ... -0.244937 -0.363857  1.564013\n",
              "125739  0.310880 -1.636295 -0.689756  ...  0.682491  0.094124  0.764725\n",
              "125740  0.529257  0.051641  2.370553  ... -1.024357  0.112503 -1.560220\n",
              "125741  0.460118  0.185374 -0.250261  ...  1.400265  1.293142  1.504845\n",
              "\n",
              "[125742 rows x 21 columns]"
            ]
          },
          "metadata": {
            "tags": []
          },
          "execution_count": 27
        }
      ]
    },
    {
      "cell_type": "code",
      "metadata": {
        "id": "co5MDmfGhaIC"
      },
      "source": [
        "from sklearn.cluster import KMeans"
      ],
      "execution_count": 28,
      "outputs": []
    },
    {
      "cell_type": "code",
      "metadata": {
        "colab": {
          "background_save": true
        },
        "id": "QPLc4QSehmey"
      },
      "source": [
        "cluster_range = range(1,20)\n",
        "errors = []\n",
        "for i in cluster_range:\n",
        "  kmeans = KMeans(n_clusters=i,n_init=10,random_state=15)\n",
        "  cluster = kmeans.fit(pca_df)\n",
        "  errors.append(cluster.inertia_)"
      ],
      "execution_count": null,
      "outputs": []
    },
    {
      "cell_type": "code",
      "metadata": {
        "id": "7OTjTTveiFte"
      },
      "source": [
        "clusters_df = pd.DataFrame({'no of clusters':cluster_range,'error rate':errors})"
      ],
      "execution_count": 30,
      "outputs": []
    },
    {
      "cell_type": "markdown",
      "metadata": {
        "id": "Px2gS04Etz8k"
      },
      "source": [
        ""
      ]
    },
    {
      "cell_type": "code",
      "metadata": {
        "colab": {
          "base_uri": "https://localhost:8080/",
          "height": 638
        },
        "id": "-aIivkjojglS",
        "outputId": "198234f6-e134-4ad6-f11f-47bc6fc081ec"
      },
      "source": [
        "clusters_df"
      ],
      "execution_count": 31,
      "outputs": [
        {
          "output_type": "execute_result",
          "data": {
            "text/html": [
              "<div>\n",
              "<style scoped>\n",
              "    .dataframe tbody tr th:only-of-type {\n",
              "        vertical-align: middle;\n",
              "    }\n",
              "\n",
              "    .dataframe tbody tr th {\n",
              "        vertical-align: top;\n",
              "    }\n",
              "\n",
              "    .dataframe thead th {\n",
              "        text-align: right;\n",
              "    }\n",
              "</style>\n",
              "<table border=\"1\" class=\"dataframe\">\n",
              "  <thead>\n",
              "    <tr style=\"text-align: right;\">\n",
              "      <th></th>\n",
              "      <th>no of clusters</th>\n",
              "      <th>error rate</th>\n",
              "    </tr>\n",
              "  </thead>\n",
              "  <tbody>\n",
              "    <tr>\n",
              "      <th>0</th>\n",
              "      <td>1</td>\n",
              "      <td>3.030665e+06</td>\n",
              "    </tr>\n",
              "    <tr>\n",
              "      <th>1</th>\n",
              "      <td>2</td>\n",
              "      <td>2.849241e+06</td>\n",
              "    </tr>\n",
              "    <tr>\n",
              "      <th>2</th>\n",
              "      <td>3</td>\n",
              "      <td>2.723788e+06</td>\n",
              "    </tr>\n",
              "    <tr>\n",
              "      <th>3</th>\n",
              "      <td>4</td>\n",
              "      <td>2.617640e+06</td>\n",
              "    </tr>\n",
              "    <tr>\n",
              "      <th>4</th>\n",
              "      <td>5</td>\n",
              "      <td>2.492634e+06</td>\n",
              "    </tr>\n",
              "    <tr>\n",
              "      <th>5</th>\n",
              "      <td>6</td>\n",
              "      <td>2.387262e+06</td>\n",
              "    </tr>\n",
              "    <tr>\n",
              "      <th>6</th>\n",
              "      <td>7</td>\n",
              "      <td>2.264580e+06</td>\n",
              "    </tr>\n",
              "    <tr>\n",
              "      <th>7</th>\n",
              "      <td>8</td>\n",
              "      <td>2.127363e+06</td>\n",
              "    </tr>\n",
              "    <tr>\n",
              "      <th>8</th>\n",
              "      <td>9</td>\n",
              "      <td>2.007084e+06</td>\n",
              "    </tr>\n",
              "    <tr>\n",
              "      <th>9</th>\n",
              "      <td>10</td>\n",
              "      <td>1.882100e+06</td>\n",
              "    </tr>\n",
              "    <tr>\n",
              "      <th>10</th>\n",
              "      <td>11</td>\n",
              "      <td>1.785561e+06</td>\n",
              "    </tr>\n",
              "    <tr>\n",
              "      <th>11</th>\n",
              "      <td>12</td>\n",
              "      <td>1.670553e+06</td>\n",
              "    </tr>\n",
              "    <tr>\n",
              "      <th>12</th>\n",
              "      <td>13</td>\n",
              "      <td>1.549321e+06</td>\n",
              "    </tr>\n",
              "    <tr>\n",
              "      <th>13</th>\n",
              "      <td>14</td>\n",
              "      <td>1.433458e+06</td>\n",
              "    </tr>\n",
              "    <tr>\n",
              "      <th>14</th>\n",
              "      <td>15</td>\n",
              "      <td>1.370504e+06</td>\n",
              "    </tr>\n",
              "    <tr>\n",
              "      <th>15</th>\n",
              "      <td>16</td>\n",
              "      <td>1.277522e+06</td>\n",
              "    </tr>\n",
              "    <tr>\n",
              "      <th>16</th>\n",
              "      <td>17</td>\n",
              "      <td>1.172834e+06</td>\n",
              "    </tr>\n",
              "    <tr>\n",
              "      <th>17</th>\n",
              "      <td>18</td>\n",
              "      <td>1.159206e+06</td>\n",
              "    </tr>\n",
              "    <tr>\n",
              "      <th>18</th>\n",
              "      <td>19</td>\n",
              "      <td>1.076319e+06</td>\n",
              "    </tr>\n",
              "  </tbody>\n",
              "</table>\n",
              "</div>"
            ],
            "text/plain": [
              "    no of clusters    error rate\n",
              "0                1  3.030665e+06\n",
              "1                2  2.849241e+06\n",
              "2                3  2.723788e+06\n",
              "3                4  2.617640e+06\n",
              "4                5  2.492634e+06\n",
              "5                6  2.387262e+06\n",
              "6                7  2.264580e+06\n",
              "7                8  2.127363e+06\n",
              "8                9  2.007084e+06\n",
              "9               10  1.882100e+06\n",
              "10              11  1.785561e+06\n",
              "11              12  1.670553e+06\n",
              "12              13  1.549321e+06\n",
              "13              14  1.433458e+06\n",
              "14              15  1.370504e+06\n",
              "15              16  1.277522e+06\n",
              "16              17  1.172834e+06\n",
              "17              18  1.159206e+06\n",
              "18              19  1.076319e+06"
            ]
          },
          "metadata": {
            "tags": []
          },
          "execution_count": 31
        }
      ]
    },
    {
      "cell_type": "code",
      "metadata": {
        "colab": {
          "base_uri": "https://localhost:8080/",
          "height": 276
        },
        "id": "Axjg5yDyjiDL",
        "outputId": "851be30b-2d9d-4392-ae5e-2ccd0ebc1913"
      },
      "source": [
        "plt.plot(clusters_df['no of clusters'],clusters_df['error rate'],marker = 'o')\n",
        "plt.xticks(ticks = range(1,20,1))\n",
        "plt.grid()\n",
        "plt.show()"
      ],
      "execution_count": 32,
      "outputs": [
        {
          "output_type": "display_data",
          "data": {
            "image/png": "[encoded data removed]",
            "text/plain": [
              "<Figure size 432x288 with 1 Axes>"
            ]
          },
          "metadata": {
            "tags": [],
            "needs_background": "light"
          }
        }
      ]
    },
    {
      "cell_type": "code",
      "metadata": {
        "id": "ThjlvGIAjrSZ"
      },
      "source": [
        "km = KMeans(n_clusters=2)\n",
        "clusters = km.fit(pca_df)"
      ],
      "execution_count": 33,
      "outputs": []
    },
    {
      "cell_type": "code",
      "metadata": {
        "id": "lnUNAXppux4_"
      },
      "source": [
        "pca_df['Surge_Pricing_Type'] = clusters.labels_"
      ],
      "execution_count": 34,
      "outputs": []
    },
    {
      "cell_type": "code",
      "metadata": {
        "colab": {
          "base_uri": "https://localhost:8080/",
          "height": 224
        },
        "id": "HhrloCwru6dB",
        "outputId": "aa034700-102a-4a1c-d157-358c311da8f5"
      },
      "source": [
        "pca_df.head()"
      ],
      "execution_count": 35,
      "outputs": [
        {
          "output_type": "execute_result",
          "data": {
            "text/html": [
              "<div>\n",
              "<style scoped>\n",
              "    .dataframe tbody tr th:only-of-type {\n",
              "        vertical-align: middle;\n",
              "    }\n",
              "\n",
              "    .dataframe tbody tr th {\n",
              "        vertical-align: top;\n",
              "    }\n",
              "\n",
              "    .dataframe thead th {\n",
              "        text-align: right;\n",
              "    }\n",
              "</style>\n",
              "<table border=\"1\" class=\"dataframe\">\n",
              "  <thead>\n",
              "    <tr style=\"text-align: right;\">\n",
              "      <th></th>\n",
              "      <th>0</th>\n",
              "      <th>1</th>\n",
              "      <th>2</th>\n",
              "      <th>3</th>\n",
              "      <th>4</th>\n",
              "      <th>5</th>\n",
              "      <th>6</th>\n",
              "      <th>7</th>\n",
              "      <th>8</th>\n",
              "      <th>9</th>\n",
              "      <th>10</th>\n",
              "      <th>11</th>\n",
              "      <th>12</th>\n",
              "      <th>13</th>\n",
              "      <th>14</th>\n",
              "      <th>15</th>\n",
              "      <th>16</th>\n",
              "      <th>17</th>\n",
              "      <th>18</th>\n",
              "      <th>19</th>\n",
              "      <th>20</th>\n",
              "      <th>Surge_Pricing_Type</th>\n",
              "    </tr>\n",
              "  </thead>\n",
              "  <tbody>\n",
              "    <tr>\n",
              "      <th>0</th>\n",
              "      <td>-3.167780</td>\n",
              "      <td>0.371674</td>\n",
              "      <td>0.805164</td>\n",
              "      <td>-1.364272</td>\n",
              "      <td>0.703975</td>\n",
              "      <td>0.699474</td>\n",
              "      <td>0.009232</td>\n",
              "      <td>0.281158</td>\n",
              "      <td>-0.371138</td>\n",
              "      <td>-0.359210</td>\n",
              "      <td>1.142342</td>\n",
              "      <td>-0.484835</td>\n",
              "      <td>0.361691</td>\n",
              "      <td>-0.539960</td>\n",
              "      <td>0.298044</td>\n",
              "      <td>0.835371</td>\n",
              "      <td>-0.935906</td>\n",
              "      <td>0.000718</td>\n",
              "      <td>0.342744</td>\n",
              "      <td>-1.487347</td>\n",
              "      <td>-0.522011</td>\n",
              "      <td>0</td>\n",
              "    </tr>\n",
              "    <tr>\n",
              "      <th>1</th>\n",
              "      <td>0.659935</td>\n",
              "      <td>-0.500612</td>\n",
              "      <td>0.708236</td>\n",
              "      <td>-1.794151</td>\n",
              "      <td>0.732081</td>\n",
              "      <td>0.873106</td>\n",
              "      <td>-0.365992</td>\n",
              "      <td>-0.774808</td>\n",
              "      <td>-0.484604</td>\n",
              "      <td>-0.674003</td>\n",
              "      <td>0.800628</td>\n",
              "      <td>0.016578</td>\n",
              "      <td>0.002546</td>\n",
              "      <td>0.203959</td>\n",
              "      <td>0.333208</td>\n",
              "      <td>-0.016269</td>\n",
              "      <td>-0.233780</td>\n",
              "      <td>0.556152</td>\n",
              "      <td>-1.034555</td>\n",
              "      <td>-1.099845</td>\n",
              "      <td>0.447826</td>\n",
              "      <td>1</td>\n",
              "    </tr>\n",
              "    <tr>\n",
              "      <th>2</th>\n",
              "      <td>0.102440</td>\n",
              "      <td>-0.469316</td>\n",
              "      <td>-0.016034</td>\n",
              "      <td>0.717033</td>\n",
              "      <td>0.769851</td>\n",
              "      <td>2.053445</td>\n",
              "      <td>-0.292817</td>\n",
              "      <td>1.448435</td>\n",
              "      <td>-1.472927</td>\n",
              "      <td>-4.642981</td>\n",
              "      <td>-3.552392</td>\n",
              "      <td>-1.023240</td>\n",
              "      <td>0.181247</td>\n",
              "      <td>0.172348</td>\n",
              "      <td>-0.727384</td>\n",
              "      <td>-1.153051</td>\n",
              "      <td>0.578909</td>\n",
              "      <td>0.271690</td>\n",
              "      <td>0.858992</td>\n",
              "      <td>-0.154812</td>\n",
              "      <td>0.605221</td>\n",
              "      <td>0</td>\n",
              "    </tr>\n",
              "    <tr>\n",
              "      <th>3</th>\n",
              "      <td>0.150250</td>\n",
              "      <td>-0.353403</td>\n",
              "      <td>-0.220404</td>\n",
              "      <td>0.330168</td>\n",
              "      <td>-1.969153</td>\n",
              "      <td>0.183633</td>\n",
              "      <td>-0.373726</td>\n",
              "      <td>-0.689299</td>\n",
              "      <td>-0.170161</td>\n",
              "      <td>-0.306870</td>\n",
              "      <td>0.040466</td>\n",
              "      <td>0.180192</td>\n",
              "      <td>-0.129266</td>\n",
              "      <td>0.186520</td>\n",
              "      <td>-0.032431</td>\n",
              "      <td>-0.122184</td>\n",
              "      <td>0.109948</td>\n",
              "      <td>0.118125</td>\n",
              "      <td>-0.520774</td>\n",
              "      <td>0.121205</td>\n",
              "      <td>0.964615</td>\n",
              "      <td>0</td>\n",
              "    </tr>\n",
              "    <tr>\n",
              "      <th>4</th>\n",
              "      <td>2.430105</td>\n",
              "      <td>-1.546736</td>\n",
              "      <td>-1.202034</td>\n",
              "      <td>0.641672</td>\n",
              "      <td>-1.321082</td>\n",
              "      <td>1.810091</td>\n",
              "      <td>-0.515354</td>\n",
              "      <td>0.503330</td>\n",
              "      <td>-0.400760</td>\n",
              "      <td>0.060917</td>\n",
              "      <td>-0.150814</td>\n",
              "      <td>0.215046</td>\n",
              "      <td>0.060228</td>\n",
              "      <td>0.151303</td>\n",
              "      <td>0.299311</td>\n",
              "      <td>-0.072482</td>\n",
              "      <td>0.050565</td>\n",
              "      <td>0.197753</td>\n",
              "      <td>-0.724256</td>\n",
              "      <td>0.246402</td>\n",
              "      <td>-1.166884</td>\n",
              "      <td>1</td>\n",
              "    </tr>\n",
              "  </tbody>\n",
              "</table>\n",
              "</div>"
            ],
            "text/plain": [
              "          0         1         2  ...        19        20  Surge_Pricing_Type\n",
              "0 -3.167780  0.371674  0.805164  ... -1.487347 -0.522011                   0\n",
              "1  0.659935 -0.500612  0.708236  ... -1.099845  0.447826                   1\n",
              "2  0.102440 -0.469316 -0.016034  ... -0.154812  0.605221                   0\n",
              "3  0.150250 -0.353403 -0.220404  ...  0.121205  0.964615                   0\n",
              "4  2.430105 -1.546736 -1.202034  ...  0.246402 -1.166884                   1\n",
              "\n",
              "[5 rows x 22 columns]"
            ]
          },
          "metadata": {
            "tags": []
          },
          "execution_count": 35
        }
      ]
    },
    {
      "cell_type": "code",
      "metadata": {
        "colab": {
          "base_uri": "https://localhost:8080/",
          "height": 279
        },
        "id": "AMladMTau9ZI",
        "outputId": "4c1f1717-01b4-4246-e1d2-a8ebf84f14da"
      },
      "source": [
        "pca_df['Surge_Pricing_Type'].value_counts().plot(kind = 'bar')"
      ],
      "execution_count": 36,
      "outputs": [
        {
          "output_type": "execute_result",
          "data": {
            "text/plain": [
              "<matplotlib.axes._subplots.AxesSubplot at 0x7ff90d282a50>"
            ]
          },
          "metadata": {
            "tags": []
          },
          "execution_count": 36
        },
        {
          "output_type": "display_data",
          "data": {
            "image/png": "[encoded data removed]",
            "text/plain": [
              "<Figure size 432x288 with 1 Axes>"
            ]
          },
          "metadata": {
            "tags": [],
            "needs_background": "light"
          }
        }
      ]
    },
    {
      "cell_type": "code",
      "metadata": {
        "id": "CqxvcGOnvMaE"
      },
      "source": [
        "from sklearn.model_selection import train_test_split,cross_val_score,KFold,GridSearchCV"
      ],
      "execution_count": 48,
      "outputs": []
    },
    {
      "cell_type": "code",
      "metadata": {
        "id": "kYm5Cj4ZvfFk"
      },
      "source": [
        "x = pca_df.drop('Surge_Pricing_Type',axis=1)\n",
        "y = pca_df['Surge_Pricing_Type']"
      ],
      "execution_count": 38,
      "outputs": []
    },
    {
      "cell_type": "code",
      "metadata": {
        "id": "zNxFqz9lvCMd"
      },
      "source": [
        "xtrain,xtest,ytrain,ytest = train_test_split(x,y,train_size=0.7,random_state = 7)"
      ],
      "execution_count": 39,
      "outputs": []
    },
    {
      "cell_type": "code",
      "metadata": {
        "id": "l30BzqVXwMjZ"
      },
      "source": [
        "from sklearn.neighbors import KNeighborsClassifier"
      ],
      "execution_count": 40,
      "outputs": []
    },
    {
      "cell_type": "code",
      "metadata": {
        "id": "j1hX2wblw6g-"
      },
      "source": [
        "knn = KNeighborsClassifier()\n",
        "model_v1 = knn.fit(xtrain,ytrain)\n",
        "ypred = model_v1.predict(xtest)\n",
        "ypred_train = model_v1.predict(xtrain)"
      ],
      "execution_count": 41,
      "outputs": []
    },
    {
      "cell_type": "code",
      "metadata": {
        "id": "LAh3f2eSxEAJ"
      },
      "source": [
        "from sklearn.metrics import confusion_matrix,classification_report"
      ],
      "execution_count": 42,
      "outputs": []
    },
    {
      "cell_type": "code",
      "metadata": {
        "id": "wPbHI9myxQyV",
        "colab": {
          "base_uri": "https://localhost:8080/",
          "height": 282
        },
        "outputId": "50dc4374-2ac8-4171-f701-d2005a352e74"
      },
      "source": [
        "cm = confusion_matrix(ytest,ypred)\n",
        "sns.heatmap(cm,annot=True,cmap='crest')"
      ],
      "execution_count": 43,
      "outputs": [
        {
          "output_type": "execute_result",
          "data": {
            "text/plain": [
              "<matplotlib.axes._subplots.AxesSubplot at 0x7ff90d58a750>"
            ]
          },
          "metadata": {
            "tags": []
          },
          "execution_count": 43
        },
        {
          "output_type": "display_data",
          "data": {
            "image/png": "[encoded data removed]",
            "text/plain": [
              "<Figure size 432x288 with 2 Axes>"
            ]
          },
          "metadata": {
            "tags": [],
            "needs_background": "light"
          }
        }
      ]
    },
    {
      "cell_type": "code",
      "metadata": {
        "id": "TP9bics-xdxh",
        "colab": {
          "base_uri": "https://localhost:8080/"
        },
        "outputId": "ab1698ab-dcee-4a46-9737-6667ed4dc734"
      },
      "source": [
        "print(classification_report(ytest,ypred))"
      ],
      "execution_count": 44,
      "outputs": [
        {
          "output_type": "stream",
          "text": [
            "              precision    recall  f1-score   support\n",
            "\n",
            "           0       0.95      0.97      0.96     21375\n",
            "           1       0.96      0.93      0.95     16348\n",
            "\n",
            "    accuracy                           0.95     37723\n",
            "   macro avg       0.95      0.95      0.95     37723\n",
            "weighted avg       0.95      0.95      0.95     37723\n",
            "\n"
          ],
          "name": "stdout"
        }
      ]
    },
    {
      "cell_type": "code",
      "metadata": {
        "id": "bUHh3K_uxkGP",
        "colab": {
          "base_uri": "https://localhost:8080/"
        },
        "outputId": "4b121146-0bf0-4702-ef6f-82c11e8e1d86"
      },
      "source": [
        "print(classification_report(ytrain,ypred_train))"
      ],
      "execution_count": 45,
      "outputs": [
        {
          "output_type": "stream",
          "text": [
            "              precision    recall  f1-score   support\n",
            "\n",
            "           0       0.97      0.98      0.98     50085\n",
            "           1       0.98      0.96      0.97     37934\n",
            "\n",
            "    accuracy                           0.97     88019\n",
            "   macro avg       0.97      0.97      0.97     88019\n",
            "weighted avg       0.97      0.97      0.97     88019\n",
            "\n"
          ],
          "name": "stdout"
        }
      ]
    },
    {
      "cell_type": "code",
      "metadata": {
        "id": "ZhQnBpPhyjco"
      },
      "source": [
        "k = KFold(n_splits=10,shuffle=True,random_state=7)\n",
        "scores = cross_val_score(estimator=knn,X=xtest,y=ytest,scoring = 'f1_weighted',cv=k)"
      ],
      "execution_count": 46,
      "outputs": []
    },
    {
      "cell_type": "code",
      "metadata": {
        "id": "XvZpUKIbzOj_",
        "colab": {
          "base_uri": "https://localhost:8080/"
        },
        "outputId": "29756d7e-0071-4054-d2ce-0d22edc312ac"
      },
      "source": [
        "bias = 1-np.mean(scores)\n",
        "variance  = np.std(scores)/np.mean(scores)\n",
        "print('Bias and Variance error is:',bias,'and',variance,'respectively')"
      ],
      "execution_count": 47,
      "outputs": [
        {
          "output_type": "stream",
          "text": [
            "Bias and Variance error is: 0.05930221833714333 and 0.0044420556023489 respectively\n"
          ],
          "name": "stdout"
        }
      ]
    },
    {
      "cell_type": "code",
      "metadata": {
        "id": "3p_2_Q-PzpEm"
      },
      "source": [
        "from sklearn.tree import DecisionTreeClassifier"
      ],
      "execution_count": 49,
      "outputs": []
    },
    {
      "cell_type": "code",
      "metadata": {
        "colab": {
          "base_uri": "https://localhost:8080/"
        },
        "id": "tajIJRVA9uUy",
        "outputId": "1530003b-dcf1-4030-9aab-641994ebc871"
      },
      "source": [
        "dt = DecisionTreeClassifier()\n",
        "params = ({'criterion':['gini','entropy'],\n",
        "           'max_depth': np.arange(5,20,3),\n",
        "           'min_samples_leaf': np.arange(6,18,3)})\n",
        "grid = GridSearchCV(estimator=dt,param_grid=params,scoring='f1_weighted',cv = 10)\n",
        "grid.fit(xtrain,ytrain)"
      ],
      "execution_count": 50,
      "outputs": [
        {
          "output_type": "execute_result",
          "data": {
            "text/plain": [
              "GridSearchCV(cv=10, error_score=nan,\n",
              "             estimator=DecisionTreeClassifier(ccp_alpha=0.0, class_weight=None,\n",
              "                                              criterion='gini', max_depth=None,\n",
              "                                              max_features=None,\n",
              "                                              max_leaf_nodes=None,\n",
              "                                              min_impurity_decrease=0.0,\n",
              "                                              min_impurity_split=None,\n",
              "                                              min_samples_leaf=1,\n",
              "                                              min_samples_split=2,\n",
              "                                              min_weight_fraction_leaf=0.0,\n",
              "                                              presort='deprecated',\n",
              "                                              random_state=None,\n",
              "                                              splitter='best'),\n",
              "             iid='deprecated', n_jobs=None,\n",
              "             param_grid={'criterion': ['gini', 'entropy'],\n",
              "                         'max_depth': array([ 5,  8, 11, 14, 17]),\n",
              "                         'min_samples_leaf': array([ 6,  9, 12, 15])},\n",
              "             pre_dispatch='2*n_jobs', refit=True, return_train_score=False,\n",
              "             scoring='f1_weighted', verbose=0)"
            ]
          },
          "metadata": {
            "tags": []
          },
          "execution_count": 50
        }
      ]
    },
    {
      "cell_type": "code",
      "metadata": {
        "colab": {
          "base_uri": "https://localhost:8080/"
        },
        "id": "D2B2ftpq-gva",
        "outputId": "b4163c6a-8e77-4ab8-d2c1-86e6c6d7861a"
      },
      "source": [
        "grid.best_estimator_"
      ],
      "execution_count": 51,
      "outputs": [
        {
          "output_type": "execute_result",
          "data": {
            "text/plain": [
              "DecisionTreeClassifier(ccp_alpha=0.0, class_weight=None, criterion='entropy',\n",
              "                       max_depth=17, max_features=None, max_leaf_nodes=None,\n",
              "                       min_impurity_decrease=0.0, min_impurity_split=None,\n",
              "                       min_samples_leaf=6, min_samples_split=2,\n",
              "                       min_weight_fraction_leaf=0.0, presort='deprecated',\n",
              "                       random_state=None, splitter='best')"
            ]
          },
          "metadata": {
            "tags": []
          },
          "execution_count": 51
        }
      ]
    },
    {
      "cell_type": "code",
      "metadata": {
        "id": "-Niu9GEKB2uM"
      },
      "source": [
        "dt = DecisionTreeClassifier(ccp_alpha=0.0, class_weight=None, criterion='entropy',\n",
        "                       max_depth=17, max_features=None, max_leaf_nodes=None,\n",
        "                       min_impurity_decrease=0.0, min_impurity_split=None,\n",
        "                       min_samples_leaf=6, min_samples_split=2,\n",
        "                       min_weight_fraction_leaf=0.0, presort='deprecated',\n",
        "                       random_state=None, splitter='best')\n",
        "model_v2 = dt.fit(xtrain,ytrain)\n",
        "ypred = model_v2.predict(xtest)\n",
        "ypred_train = model_v2.predict(xtrain)"
      ],
      "execution_count": 53,
      "outputs": []
    },
    {
      "cell_type": "code",
      "metadata": {
        "colab": {
          "base_uri": "https://localhost:8080/",
          "height": 282
        },
        "id": "5_tjgZFfCZ1X",
        "outputId": "70f31b85-b158-42b9-8c43-e2951a8bebdb"
      },
      "source": [
        "cm = confusion_matrix(ytest,ypred)\n",
        "sns.heatmap(cm,annot=True,cmap='icefire')"
      ],
      "execution_count": 55,
      "outputs": [
        {
          "output_type": "execute_result",
          "data": {
            "text/plain": [
              "<matplotlib.axes._subplots.AxesSubplot at 0x7ff8f7ce8790>"
            ]
          },
          "metadata": {
            "tags": []
          },
          "execution_count": 55
        },
        {
          "output_type": "display_data",
          "data": {
            "image/png": "[encoded data removed]",
            "text/plain": [
              "<Figure size 432x288 with 2 Axes>"
            ]
          },
          "metadata": {
            "tags": [],
            "needs_background": "light"
          }
        }
      ]
    },
    {
      "cell_type": "code",
      "metadata": {
        "colab": {
          "base_uri": "https://localhost:8080/"
        },
        "id": "TuKTJ1l4CmeZ",
        "outputId": "c472954b-a0f7-47b9-c1cf-83b94a47fc0e"
      },
      "source": [
        "print(classification_report(ytest,ypred))"
      ],
      "execution_count": 56,
      "outputs": [
        {
          "output_type": "stream",
          "text": [
            "              precision    recall  f1-score   support\n",
            "\n",
            "           0       0.99      0.99      0.99     21375\n",
            "           1       0.99      0.99      0.99     16348\n",
            "\n",
            "    accuracy                           0.99     37723\n",
            "   macro avg       0.99      0.99      0.99     37723\n",
            "weighted avg       0.99      0.99      0.99     37723\n",
            "\n"
          ],
          "name": "stdout"
        }
      ]
    },
    {
      "cell_type": "code",
      "metadata": {
        "id": "2R9TSaI2Cvs0"
      },
      "source": [
        ""
      ],
      "execution_count": null,
      "outputs": []
    },
    {
      "cell_type": "code",
      "metadata": {
        "id": "zaJwxnAoDHlb"
      },
      "source": [
        "k = KFold(n_splits=10,shuffle=True,random_state=7)\n",
        "scores = cross_val_score(estimator=dt,X=xtest,y=ytest,scoring = 'f1_weighted',cv=k)"
      ],
      "execution_count": 58,
      "outputs": []
    },
    {
      "cell_type": "code",
      "metadata": {
        "colab": {
          "base_uri": "https://localhost:8080/"
        },
        "id": "P9kGgFtaDHlc",
        "outputId": "293b02ea-c55c-4a98-9d9e-bb910744f354"
      },
      "source": [
        "bias = 1-np.mean(scores)\n",
        "variance  = np.std(scores)/np.mean(scores)\n",
        "print('Bias and Variance error is:',bias,'and',variance,'respectively')"
      ],
      "execution_count": 59,
      "outputs": [
        {
          "output_type": "stream",
          "text": [
            "Bias and Variance error is: 0.00941170689076376 and 0.001634221696836868 respectively\n"
          ],
          "name": "stdout"
        }
      ]
    },
    {
      "cell_type": "code",
      "metadata": {
        "id": "uMauMQVIDPDD"
      },
      "source": [
        ""
      ],
      "execution_count": null,
      "outputs": []
    }
  ]
}